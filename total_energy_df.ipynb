{
 "cells": [
  {
   "cell_type": "code",
   "execution_count": 66,
   "metadata": {},
   "outputs": [
    {
     "ename": "Exception",
     "evalue": "File `'btu_df.ipynb.py'` not found.",
     "output_type": "error",
     "traceback": [
      "\u001B[1;31m---------------------------------------------------------------------------\u001B[0m",
      "\u001B[1;31mOSError\u001B[0m                                   Traceback (most recent call last)",
      "File \u001B[1;32m~\\anaconda3\\lib\\site-packages\\IPython\\core\\magics\\execution.py:696\u001B[0m, in \u001B[0;36mExecutionMagics.run\u001B[1;34m(self, parameter_s, runner, file_finder)\u001B[0m\n\u001B[0;32m    695\u001B[0m     fpath \u001B[38;5;241m=\u001B[39m arg_lst[\u001B[38;5;241m0\u001B[39m]\n\u001B[1;32m--> 696\u001B[0m     filename \u001B[38;5;241m=\u001B[39m \u001B[43mfile_finder\u001B[49m\u001B[43m(\u001B[49m\u001B[43mfpath\u001B[49m\u001B[43m)\u001B[49m\n\u001B[0;32m    697\u001B[0m \u001B[38;5;28;01mexcept\u001B[39;00m \u001B[38;5;167;01mIndexError\u001B[39;00m \u001B[38;5;28;01mas\u001B[39;00m e:\n",
      "File \u001B[1;32m~\\anaconda3\\lib\\site-packages\\IPython\\utils\\path.py:91\u001B[0m, in \u001B[0;36mget_py_filename\u001B[1;34m(name)\u001B[0m\n\u001B[0;32m     90\u001B[0m \u001B[38;5;28;01melse\u001B[39;00m:\n\u001B[1;32m---> 91\u001B[0m     \u001B[38;5;28;01mraise\u001B[39;00m \u001B[38;5;167;01mIOError\u001B[39;00m(\u001B[38;5;124m'\u001B[39m\u001B[38;5;124mFile `\u001B[39m\u001B[38;5;132;01m%r\u001B[39;00m\u001B[38;5;124m` not found.\u001B[39m\u001B[38;5;124m'\u001B[39m \u001B[38;5;241m%\u001B[39m name)\n",
      "\u001B[1;31mOSError\u001B[0m: File `'btu_df.ipynb.py'` not found.",
      "\nThe above exception was the direct cause of the following exception:\n",
      "\u001B[1;31mException\u001B[0m                                 Traceback (most recent call last)",
      "Input \u001B[1;32mIn [66]\u001B[0m, in \u001B[0;36m<cell line: 6>\u001B[1;34m()\u001B[0m\n\u001B[0;32m      3\u001B[0m \u001B[38;5;28;01mimport\u001B[39;00m \u001B[38;5;21;01mmatplotlib\u001B[39;00m\u001B[38;5;21;01m.\u001B[39;00m\u001B[38;5;21;01mpyplot\u001B[39;00m \u001B[38;5;28;01mas\u001B[39;00m \u001B[38;5;21;01mplt\u001B[39;00m\n\u001B[0;32m      4\u001B[0m \u001B[38;5;28;01mimport\u001B[39;00m \u001B[38;5;21;01mmatplotlib\u001B[39;00m\u001B[38;5;21;01m.\u001B[39;00m\u001B[38;5;21;01mcbook\u001B[39;00m \u001B[38;5;28;01mas\u001B[39;00m \u001B[38;5;21;01mcbook\u001B[39;00m\n\u001B[1;32m----> 6\u001B[0m \u001B[43mget_ipython\u001B[49m\u001B[43m(\u001B[49m\u001B[43m)\u001B[49m\u001B[38;5;241;43m.\u001B[39;49m\u001B[43mrun_line_magic\u001B[49m\u001B[43m(\u001B[49m\u001B[38;5;124;43m'\u001B[39;49m\u001B[38;5;124;43mrun\u001B[39;49m\u001B[38;5;124;43m'\u001B[39;49m\u001B[43m,\u001B[49m\u001B[43m \u001B[49m\u001B[38;5;124;43m'\u001B[39;49m\u001B[38;5;124;43mbtu_df.ipynb\u001B[39;49m\u001B[38;5;124;43m'\u001B[39;49m\u001B[43m)\u001B[49m\n\u001B[0;32m      7\u001B[0m get_ipython()\u001B[38;5;241m.\u001B[39mrun_line_magic(\u001B[38;5;124m'\u001B[39m\u001B[38;5;124mrun\u001B[39m\u001B[38;5;124m'\u001B[39m, \u001B[38;5;124m'\u001B[39m\u001B[38;5;124mkwh_df.ipynb\u001B[39m\u001B[38;5;124m'\u001B[39m)\n\u001B[0;32m      8\u001B[0m get_ipython()\u001B[38;5;241m.\u001B[39mrun_line_magic(\u001B[38;5;124m'\u001B[39m\u001B[38;5;124mrun\u001B[39m\u001B[38;5;124m'\u001B[39m, \u001B[38;5;124m'\u001B[39m\u001B[38;5;124mgallon_df.ipynb\u001B[39m\u001B[38;5;124m'\u001B[39m)\n",
      "File \u001B[1;32m~\\anaconda3\\lib\\site-packages\\IPython\\core\\interactiveshell.py:2294\u001B[0m, in \u001B[0;36mInteractiveShell.run_line_magic\u001B[1;34m(self, magic_name, line, _stack_depth)\u001B[0m\n\u001B[0;32m   2292\u001B[0m     kwargs[\u001B[38;5;124m'\u001B[39m\u001B[38;5;124mlocal_ns\u001B[39m\u001B[38;5;124m'\u001B[39m] \u001B[38;5;241m=\u001B[39m \u001B[38;5;28mself\u001B[39m\u001B[38;5;241m.\u001B[39mget_local_scope(stack_depth)\n\u001B[0;32m   2293\u001B[0m \u001B[38;5;28;01mwith\u001B[39;00m \u001B[38;5;28mself\u001B[39m\u001B[38;5;241m.\u001B[39mbuiltin_trap:\n\u001B[1;32m-> 2294\u001B[0m     result \u001B[38;5;241m=\u001B[39m fn(\u001B[38;5;241m*\u001B[39margs, \u001B[38;5;241m*\u001B[39m\u001B[38;5;241m*\u001B[39mkwargs)\n\u001B[0;32m   2295\u001B[0m \u001B[38;5;28;01mreturn\u001B[39;00m result\n",
      "File \u001B[1;32m~\\anaconda3\\lib\\site-packages\\IPython\\core\\magics\\execution.py:707\u001B[0m, in \u001B[0;36mExecutionMagics.run\u001B[1;34m(self, parameter_s, runner, file_finder)\u001B[0m\n\u001B[0;32m    705\u001B[0m     \u001B[38;5;28;01mif\u001B[39;00m os\u001B[38;5;241m.\u001B[39mname \u001B[38;5;241m==\u001B[39m \u001B[38;5;124m'\u001B[39m\u001B[38;5;124mnt\u001B[39m\u001B[38;5;124m'\u001B[39m \u001B[38;5;129;01mand\u001B[39;00m re\u001B[38;5;241m.\u001B[39mmatch(\u001B[38;5;124mr\u001B[39m\u001B[38;5;124m\"\u001B[39m\u001B[38;5;124m^\u001B[39m\u001B[38;5;124m'\u001B[39m\u001B[38;5;124m.*\u001B[39m\u001B[38;5;124m'\u001B[39m\u001B[38;5;124m$\u001B[39m\u001B[38;5;124m\"\u001B[39m,fpath):\n\u001B[0;32m    706\u001B[0m         warn(\u001B[38;5;124m'\u001B[39m\u001B[38;5;124mFor Windows, use double quotes to wrap a filename: \u001B[39m\u001B[38;5;132;01m%r\u001B[39;00m\u001B[38;5;124mun \u001B[39m\u001B[38;5;124m\"\u001B[39m\u001B[38;5;124mmypath\u001B[39m\u001B[38;5;130;01m\\\\\u001B[39;00m\u001B[38;5;124mmyfile.py\u001B[39m\u001B[38;5;124m\"\u001B[39m\u001B[38;5;124m'\u001B[39m)\n\u001B[1;32m--> 707\u001B[0m     \u001B[38;5;28;01mraise\u001B[39;00m \u001B[38;5;167;01mException\u001B[39;00m(msg) \u001B[38;5;28;01mfrom\u001B[39;00m \u001B[38;5;21;01me\u001B[39;00m\n\u001B[0;32m    708\u001B[0m \u001B[38;5;28;01mexcept\u001B[39;00m \u001B[38;5;167;01mTypeError\u001B[39;00m:\n\u001B[0;32m    709\u001B[0m     \u001B[38;5;28;01mif\u001B[39;00m fpath \u001B[38;5;129;01min\u001B[39;00m sys\u001B[38;5;241m.\u001B[39mmeta_path:\n",
      "\u001B[1;31mException\u001B[0m: File `'btu_df.ipynb.py'` not found."
     ]
    }
   ],
   "source": [
    "import numpy as np\n",
    "import pandas as pd\n",
    "import matplotlib.pyplot as plt\n",
    "import matplotlib.cbook as cbook\n",
    "\n",
    "%run btu_df.ipynb\n",
    "%run kwh_df.ipynb\n",
    "%run gallon_df.ipynb\n",
    "%run cubic_feet_df.ipynb"
   ]
  },
  {
   "cell_type": "markdown",
   "source": [],
   "metadata": {
    "collapsed": false
   }
  },
  {
   "cell_type": "code",
   "execution_count": 75,
   "outputs": [],
   "source": [
    "btu_kwh = pd.merge(btu_df_updated,kwh_df_updated, on=['DOEID','Purpose', 'Type'] , how='outer').rename(columns={'quantity_x': 'BTU', 'quantity_y':'KWH'})"
   ],
   "metadata": {
    "collapsed": false
   }
  },
  {
   "cell_type": "code",
   "execution_count": 76,
   "outputs": [],
   "source": [
    "gallon_cufeet = pd.merge(gallon_df_updated, cufeet_df_updated, on=['DOEID','Purpose', 'Type'] , how='outer').rename(columns={'quantity_x': 'GALLON', 'quantity_y':'CUBIC_FEET'})"
   ],
   "metadata": {
    "collapsed": false
   }
  },
  {
   "cell_type": "code",
   "execution_count": 77,
   "outputs": [
    {
     "data": {
      "text/plain": "        DOEID          Purpose Type        BTU       KWH\n0           1    Space Heating   LP      0.000       NaN\n1           1     Refrigerator   EL   5170.899  1515.504\n2           1            Other   LP      0.000       NaN\n3           1  Air Conditioner   EL  10470.729  3068.795\n4           1    Space Heating   NG      0.000       NaN\n...       ...              ...  ...        ...       ...\n217489  12083    Space Heating   EL    327.116    95.880\n217490  12083    Water Heating   EL      0.000     0.000\n217491  12083            Other   EL   4262.461  1249.354\n217492  12083    Water Heating   FO      0.000       NaN\n217493  12083             WOOD    W      0.000       NaN\n\n[217494 rows x 5 columns]",
      "text/html": "<div>\n<style scoped>\n    .dataframe tbody tr th:only-of-type {\n        vertical-align: middle;\n    }\n\n    .dataframe tbody tr th {\n        vertical-align: top;\n    }\n\n    .dataframe thead th {\n        text-align: right;\n    }\n</style>\n<table border=\"1\" class=\"dataframe\">\n  <thead>\n    <tr style=\"text-align: right;\">\n      <th></th>\n      <th>DOEID</th>\n      <th>Purpose</th>\n      <th>Type</th>\n      <th>BTU</th>\n      <th>KWH</th>\n    </tr>\n  </thead>\n  <tbody>\n    <tr>\n      <th>0</th>\n      <td>1</td>\n      <td>Space Heating</td>\n      <td>LP</td>\n      <td>0.000</td>\n      <td>NaN</td>\n    </tr>\n    <tr>\n      <th>1</th>\n      <td>1</td>\n      <td>Refrigerator</td>\n      <td>EL</td>\n      <td>5170.899</td>\n      <td>1515.504</td>\n    </tr>\n    <tr>\n      <th>2</th>\n      <td>1</td>\n      <td>Other</td>\n      <td>LP</td>\n      <td>0.000</td>\n      <td>NaN</td>\n    </tr>\n    <tr>\n      <th>3</th>\n      <td>1</td>\n      <td>Air Conditioner</td>\n      <td>EL</td>\n      <td>10470.729</td>\n      <td>3068.795</td>\n    </tr>\n    <tr>\n      <th>4</th>\n      <td>1</td>\n      <td>Space Heating</td>\n      <td>NG</td>\n      <td>0.000</td>\n      <td>NaN</td>\n    </tr>\n    <tr>\n      <th>...</th>\n      <td>...</td>\n      <td>...</td>\n      <td>...</td>\n      <td>...</td>\n      <td>...</td>\n    </tr>\n    <tr>\n      <th>217489</th>\n      <td>12083</td>\n      <td>Space Heating</td>\n      <td>EL</td>\n      <td>327.116</td>\n      <td>95.880</td>\n    </tr>\n    <tr>\n      <th>217490</th>\n      <td>12083</td>\n      <td>Water Heating</td>\n      <td>EL</td>\n      <td>0.000</td>\n      <td>0.000</td>\n    </tr>\n    <tr>\n      <th>217491</th>\n      <td>12083</td>\n      <td>Other</td>\n      <td>EL</td>\n      <td>4262.461</td>\n      <td>1249.354</td>\n    </tr>\n    <tr>\n      <th>217492</th>\n      <td>12083</td>\n      <td>Water Heating</td>\n      <td>FO</td>\n      <td>0.000</td>\n      <td>NaN</td>\n    </tr>\n    <tr>\n      <th>217493</th>\n      <td>12083</td>\n      <td>WOOD</td>\n      <td>W</td>\n      <td>0.000</td>\n      <td>NaN</td>\n    </tr>\n  </tbody>\n</table>\n<p>217494 rows × 5 columns</p>\n</div>"
     },
     "execution_count": 77,
     "metadata": {},
     "output_type": "execute_result"
    }
   ],
   "source": [
    "btu_kwh"
   ],
   "metadata": {
    "collapsed": false
   }
  },
  {
   "cell_type": "code",
   "execution_count": 102,
   "outputs": [],
   "source": [
    "btu = btu_kwh.dropna()"
   ],
   "metadata": {
    "collapsed": false
   }
  },
  {
   "cell_type": "code",
   "execution_count": 103,
   "outputs": [],
   "source": [
    "btu_kwh = btu_kwh.drop(btu_kwh[((btu_kwh['BTU'] == 0) & (btu_kwh['KWH'].isnull()))].index)"
   ],
   "metadata": {
    "collapsed": false
   }
  },
  {
   "cell_type": "code",
   "execution_count": 104,
   "outputs": [],
   "source": [
    "btu_kwh = btu_kwh.drop(btu_kwh[((btu_kwh['KWH'] == 0) & (btu_kwh['BTU'].isnull()))].index)\n"
   ],
   "metadata": {
    "collapsed": false
   }
  },
  {
   "cell_type": "code",
   "execution_count": 107,
   "outputs": [],
   "source": [
    "btu_kwh = btu_kwh.drop(btu_kwh[((btu_kwh['BTU'] == 0) & (btu_kwh['KWH'] == 0))].index)\n"
   ],
   "metadata": {
    "collapsed": false
   }
  },
  {
   "cell_type": "code",
   "execution_count": 108,
   "outputs": [
    {
     "data": {
      "text/plain": "        DOEID          Purpose Type        BTU       KWH\n1           1     Refrigerator   EL   5170.899  1515.504\n3           1  Air Conditioner   EL  10470.729  3068.795\n5           1            Other   EL  26362.973  7726.545\n8           1    Water Heating   EL  10128.354  2968.450\n9           1    Space Heating   EL  10873.045  3186.707\n...       ...              ...  ...        ...       ...\n217482  12083    Water Heating   NG   8016.558       NaN\n217483  12083            Other   NG   2628.840       NaN\n217484  12083     Refrigerator   EL   1428.717   418.766\n217489  12083    Space Heating   EL    327.116    95.880\n217491  12083            Other   EL   4262.461  1249.354\n\n[67103 rows x 5 columns]",
      "text/html": "<div>\n<style scoped>\n    .dataframe tbody tr th:only-of-type {\n        vertical-align: middle;\n    }\n\n    .dataframe tbody tr th {\n        vertical-align: top;\n    }\n\n    .dataframe thead th {\n        text-align: right;\n    }\n</style>\n<table border=\"1\" class=\"dataframe\">\n  <thead>\n    <tr style=\"text-align: right;\">\n      <th></th>\n      <th>DOEID</th>\n      <th>Purpose</th>\n      <th>Type</th>\n      <th>BTU</th>\n      <th>KWH</th>\n    </tr>\n  </thead>\n  <tbody>\n    <tr>\n      <th>1</th>\n      <td>1</td>\n      <td>Refrigerator</td>\n      <td>EL</td>\n      <td>5170.899</td>\n      <td>1515.504</td>\n    </tr>\n    <tr>\n      <th>3</th>\n      <td>1</td>\n      <td>Air Conditioner</td>\n      <td>EL</td>\n      <td>10470.729</td>\n      <td>3068.795</td>\n    </tr>\n    <tr>\n      <th>5</th>\n      <td>1</td>\n      <td>Other</td>\n      <td>EL</td>\n      <td>26362.973</td>\n      <td>7726.545</td>\n    </tr>\n    <tr>\n      <th>8</th>\n      <td>1</td>\n      <td>Water Heating</td>\n      <td>EL</td>\n      <td>10128.354</td>\n      <td>2968.450</td>\n    </tr>\n    <tr>\n      <th>9</th>\n      <td>1</td>\n      <td>Space Heating</td>\n      <td>EL</td>\n      <td>10873.045</td>\n      <td>3186.707</td>\n    </tr>\n    <tr>\n      <th>...</th>\n      <td>...</td>\n      <td>...</td>\n      <td>...</td>\n      <td>...</td>\n      <td>...</td>\n    </tr>\n    <tr>\n      <th>217482</th>\n      <td>12083</td>\n      <td>Water Heating</td>\n      <td>NG</td>\n      <td>8016.558</td>\n      <td>NaN</td>\n    </tr>\n    <tr>\n      <th>217483</th>\n      <td>12083</td>\n      <td>Other</td>\n      <td>NG</td>\n      <td>2628.840</td>\n      <td>NaN</td>\n    </tr>\n    <tr>\n      <th>217484</th>\n      <td>12083</td>\n      <td>Refrigerator</td>\n      <td>EL</td>\n      <td>1428.717</td>\n      <td>418.766</td>\n    </tr>\n    <tr>\n      <th>217489</th>\n      <td>12083</td>\n      <td>Space Heating</td>\n      <td>EL</td>\n      <td>327.116</td>\n      <td>95.880</td>\n    </tr>\n    <tr>\n      <th>217491</th>\n      <td>12083</td>\n      <td>Other</td>\n      <td>EL</td>\n      <td>4262.461</td>\n      <td>1249.354</td>\n    </tr>\n  </tbody>\n</table>\n<p>67103 rows × 5 columns</p>\n</div>"
     },
     "execution_count": 108,
     "metadata": {},
     "output_type": "execute_result"
    }
   ],
   "source": [
    "btu_kwh"
   ],
   "metadata": {
    "collapsed": false
   }
  },
  {
   "cell_type": "code",
   "execution_count": 93,
   "outputs": [
    {
     "data": {
      "text/plain": "        DOEID        Purpose Type   GALLON  CUBIC_FEET\n199        23  Water Heating   FO   96.000         NaN\n205        23  Space Heating   FO  604.000         NaN\n273        31  Space Heating   FO  377.249         NaN\n277        31  Water Heating   FO  124.751         NaN\n328        37          Other   LP   90.000         NaN\n...       ...            ...  ...      ...         ...\n144991  12079          Other   NG      NaN       0.000\n144992  12080          Other   NG      NaN      19.949\n144993  12081          Other   NG      NaN     192.014\n144994  12082          Other   NG      NaN      32.810\n144995  12083          Other   NG      NaN      25.647\n\n[39473 rows x 5 columns]",
      "text/html": "<div>\n<style scoped>\n    .dataframe tbody tr th:only-of-type {\n        vertical-align: middle;\n    }\n\n    .dataframe tbody tr th {\n        vertical-align: top;\n    }\n\n    .dataframe thead th {\n        text-align: right;\n    }\n</style>\n<table border=\"1\" class=\"dataframe\">\n  <thead>\n    <tr style=\"text-align: right;\">\n      <th></th>\n      <th>DOEID</th>\n      <th>Purpose</th>\n      <th>Type</th>\n      <th>GALLON</th>\n      <th>CUBIC_FEET</th>\n    </tr>\n  </thead>\n  <tbody>\n    <tr>\n      <th>199</th>\n      <td>23</td>\n      <td>Water Heating</td>\n      <td>FO</td>\n      <td>96.000</td>\n      <td>NaN</td>\n    </tr>\n    <tr>\n      <th>205</th>\n      <td>23</td>\n      <td>Space Heating</td>\n      <td>FO</td>\n      <td>604.000</td>\n      <td>NaN</td>\n    </tr>\n    <tr>\n      <th>273</th>\n      <td>31</td>\n      <td>Space Heating</td>\n      <td>FO</td>\n      <td>377.249</td>\n      <td>NaN</td>\n    </tr>\n    <tr>\n      <th>277</th>\n      <td>31</td>\n      <td>Water Heating</td>\n      <td>FO</td>\n      <td>124.751</td>\n      <td>NaN</td>\n    </tr>\n    <tr>\n      <th>328</th>\n      <td>37</td>\n      <td>Other</td>\n      <td>LP</td>\n      <td>90.000</td>\n      <td>NaN</td>\n    </tr>\n    <tr>\n      <th>...</th>\n      <td>...</td>\n      <td>...</td>\n      <td>...</td>\n      <td>...</td>\n      <td>...</td>\n    </tr>\n    <tr>\n      <th>144991</th>\n      <td>12079</td>\n      <td>Other</td>\n      <td>NG</td>\n      <td>NaN</td>\n      <td>0.000</td>\n    </tr>\n    <tr>\n      <th>144992</th>\n      <td>12080</td>\n      <td>Other</td>\n      <td>NG</td>\n      <td>NaN</td>\n      <td>19.949</td>\n    </tr>\n    <tr>\n      <th>144993</th>\n      <td>12081</td>\n      <td>Other</td>\n      <td>NG</td>\n      <td>NaN</td>\n      <td>192.014</td>\n    </tr>\n    <tr>\n      <th>144994</th>\n      <td>12082</td>\n      <td>Other</td>\n      <td>NG</td>\n      <td>NaN</td>\n      <td>32.810</td>\n    </tr>\n    <tr>\n      <th>144995</th>\n      <td>12083</td>\n      <td>Other</td>\n      <td>NG</td>\n      <td>NaN</td>\n      <td>25.647</td>\n    </tr>\n  </tbody>\n</table>\n<p>39473 rows × 5 columns</p>\n</div>"
     },
     "execution_count": 93,
     "metadata": {},
     "output_type": "execute_result"
    }
   ],
   "source": [
    "gallon_cufeet"
   ],
   "metadata": {
    "collapsed": false
   }
  },
  {
   "cell_type": "code",
   "execution_count": 91,
   "metadata": {},
   "outputs": [],
   "source": [
    "gallon_cufeet = gallon_cufeet.drop(gallon_cufeet[((gallon_cufeet['GALLON'] == 0) & (gallon_cufeet['CUBIC_FEET'].isnull()))].index)"
   ]
  },
  {
   "cell_type": "code",
   "execution_count": 95,
   "outputs": [],
   "source": [
    "gallon_cufeet = gallon_cufeet.drop(gallon_cufeet[((gallon_cufeet['CUBIC_FEET'] == 0) & (gallon_cufeet['GALLON'].isnull()))].index)"
   ],
   "metadata": {
    "collapsed": false
   }
  },
  {
   "cell_type": "code",
   "execution_count": 96,
   "outputs": [
    {
     "data": {
      "text/plain": "        DOEID        Purpose Type   GALLON  CUBIC_FEET\n199        23  Water Heating   FO   96.000         NaN\n205        23  Space Heating   FO  604.000         NaN\n273        31  Space Heating   FO  377.249         NaN\n277        31  Water Heating   FO  124.751         NaN\n328        37          Other   LP   90.000         NaN\n...       ...            ...  ...      ...         ...\n144983  12071          Other   NG      NaN      53.564\n144992  12080          Other   NG      NaN      19.949\n144993  12081          Other   NG      NaN     192.014\n144994  12082          Other   NG      NaN      32.810\n144995  12083          Other   NG      NaN      25.647\n\n[20615 rows x 5 columns]",
      "text/html": "<div>\n<style scoped>\n    .dataframe tbody tr th:only-of-type {\n        vertical-align: middle;\n    }\n\n    .dataframe tbody tr th {\n        vertical-align: top;\n    }\n\n    .dataframe thead th {\n        text-align: right;\n    }\n</style>\n<table border=\"1\" class=\"dataframe\">\n  <thead>\n    <tr style=\"text-align: right;\">\n      <th></th>\n      <th>DOEID</th>\n      <th>Purpose</th>\n      <th>Type</th>\n      <th>GALLON</th>\n      <th>CUBIC_FEET</th>\n    </tr>\n  </thead>\n  <tbody>\n    <tr>\n      <th>199</th>\n      <td>23</td>\n      <td>Water Heating</td>\n      <td>FO</td>\n      <td>96.000</td>\n      <td>NaN</td>\n    </tr>\n    <tr>\n      <th>205</th>\n      <td>23</td>\n      <td>Space Heating</td>\n      <td>FO</td>\n      <td>604.000</td>\n      <td>NaN</td>\n    </tr>\n    <tr>\n      <th>273</th>\n      <td>31</td>\n      <td>Space Heating</td>\n      <td>FO</td>\n      <td>377.249</td>\n      <td>NaN</td>\n    </tr>\n    <tr>\n      <th>277</th>\n      <td>31</td>\n      <td>Water Heating</td>\n      <td>FO</td>\n      <td>124.751</td>\n      <td>NaN</td>\n    </tr>\n    <tr>\n      <th>328</th>\n      <td>37</td>\n      <td>Other</td>\n      <td>LP</td>\n      <td>90.000</td>\n      <td>NaN</td>\n    </tr>\n    <tr>\n      <th>...</th>\n      <td>...</td>\n      <td>...</td>\n      <td>...</td>\n      <td>...</td>\n      <td>...</td>\n    </tr>\n    <tr>\n      <th>144983</th>\n      <td>12071</td>\n      <td>Other</td>\n      <td>NG</td>\n      <td>NaN</td>\n      <td>53.564</td>\n    </tr>\n    <tr>\n      <th>144992</th>\n      <td>12080</td>\n      <td>Other</td>\n      <td>NG</td>\n      <td>NaN</td>\n      <td>19.949</td>\n    </tr>\n    <tr>\n      <th>144993</th>\n      <td>12081</td>\n      <td>Other</td>\n      <td>NG</td>\n      <td>NaN</td>\n      <td>192.014</td>\n    </tr>\n    <tr>\n      <th>144994</th>\n      <td>12082</td>\n      <td>Other</td>\n      <td>NG</td>\n      <td>NaN</td>\n      <td>32.810</td>\n    </tr>\n    <tr>\n      <th>144995</th>\n      <td>12083</td>\n      <td>Other</td>\n      <td>NG</td>\n      <td>NaN</td>\n      <td>25.647</td>\n    </tr>\n  </tbody>\n</table>\n<p>20615 rows × 5 columns</p>\n</div>"
     },
     "execution_count": 96,
     "metadata": {},
     "output_type": "execute_result"
    }
   ],
   "source": [
    "gallon_cufeet"
   ],
   "metadata": {
    "collapsed": false
   }
  },
  {
   "cell_type": "code",
   "execution_count": 109,
   "outputs": [],
   "source": [
    "total = pd.merge(btu_kwh,gallon_cufeet, on=['DOEID','Purpose', 'Type'] , how='outer')\n"
   ],
   "metadata": {
    "collapsed": false
   }
  },
  {
   "cell_type": "code",
   "execution_count": 111,
   "outputs": [
    {
     "data": {
      "text/plain": "    DOEID          Purpose Type        BTU       KWH  GALLON  CUBIC_FEET\n0       1     Refrigerator   EL   5170.899  1515.504     NaN         NaN\n1       1  Air Conditioner   EL  10470.729  3068.795     NaN         NaN\n2       1            Other   EL  26362.973  7726.545     NaN         NaN\n3       1    Water Heating   EL  10128.354  2968.450     NaN         NaN\n4       1    Space Heating   EL  10873.045  3186.707     NaN         NaN\n..    ...              ...  ...        ...       ...     ...         ...\n95     18    Water Heating   NG  12366.476       NaN     NaN     120.648\n96     18    Space Heating   NG  52946.003       NaN     NaN     516.543\n97     19    Water Heating   NG  24000.869       NaN     NaN     234.153\n98     19     Refrigerator   EL   5290.126  1550.469     NaN         NaN\n99     19    Space Heating   NG  45358.681       NaN     NaN     442.521\n\n[100 rows x 7 columns]",
      "text/html": "<div>\n<style scoped>\n    .dataframe tbody tr th:only-of-type {\n        vertical-align: middle;\n    }\n\n    .dataframe tbody tr th {\n        vertical-align: top;\n    }\n\n    .dataframe thead th {\n        text-align: right;\n    }\n</style>\n<table border=\"1\" class=\"dataframe\">\n  <thead>\n    <tr style=\"text-align: right;\">\n      <th></th>\n      <th>DOEID</th>\n      <th>Purpose</th>\n      <th>Type</th>\n      <th>BTU</th>\n      <th>KWH</th>\n      <th>GALLON</th>\n      <th>CUBIC_FEET</th>\n    </tr>\n  </thead>\n  <tbody>\n    <tr>\n      <th>0</th>\n      <td>1</td>\n      <td>Refrigerator</td>\n      <td>EL</td>\n      <td>5170.899</td>\n      <td>1515.504</td>\n      <td>NaN</td>\n      <td>NaN</td>\n    </tr>\n    <tr>\n      <th>1</th>\n      <td>1</td>\n      <td>Air Conditioner</td>\n      <td>EL</td>\n      <td>10470.729</td>\n      <td>3068.795</td>\n      <td>NaN</td>\n      <td>NaN</td>\n    </tr>\n    <tr>\n      <th>2</th>\n      <td>1</td>\n      <td>Other</td>\n      <td>EL</td>\n      <td>26362.973</td>\n      <td>7726.545</td>\n      <td>NaN</td>\n      <td>NaN</td>\n    </tr>\n    <tr>\n      <th>3</th>\n      <td>1</td>\n      <td>Water Heating</td>\n      <td>EL</td>\n      <td>10128.354</td>\n      <td>2968.450</td>\n      <td>NaN</td>\n      <td>NaN</td>\n    </tr>\n    <tr>\n      <th>4</th>\n      <td>1</td>\n      <td>Space Heating</td>\n      <td>EL</td>\n      <td>10873.045</td>\n      <td>3186.707</td>\n      <td>NaN</td>\n      <td>NaN</td>\n    </tr>\n    <tr>\n      <th>...</th>\n      <td>...</td>\n      <td>...</td>\n      <td>...</td>\n      <td>...</td>\n      <td>...</td>\n      <td>...</td>\n      <td>...</td>\n    </tr>\n    <tr>\n      <th>95</th>\n      <td>18</td>\n      <td>Water Heating</td>\n      <td>NG</td>\n      <td>12366.476</td>\n      <td>NaN</td>\n      <td>NaN</td>\n      <td>120.648</td>\n    </tr>\n    <tr>\n      <th>96</th>\n      <td>18</td>\n      <td>Space Heating</td>\n      <td>NG</td>\n      <td>52946.003</td>\n      <td>NaN</td>\n      <td>NaN</td>\n      <td>516.543</td>\n    </tr>\n    <tr>\n      <th>97</th>\n      <td>19</td>\n      <td>Water Heating</td>\n      <td>NG</td>\n      <td>24000.869</td>\n      <td>NaN</td>\n      <td>NaN</td>\n      <td>234.153</td>\n    </tr>\n    <tr>\n      <th>98</th>\n      <td>19</td>\n      <td>Refrigerator</td>\n      <td>EL</td>\n      <td>5290.126</td>\n      <td>1550.469</td>\n      <td>NaN</td>\n      <td>NaN</td>\n    </tr>\n    <tr>\n      <th>99</th>\n      <td>19</td>\n      <td>Space Heating</td>\n      <td>NG</td>\n      <td>45358.681</td>\n      <td>NaN</td>\n      <td>NaN</td>\n      <td>442.521</td>\n    </tr>\n  </tbody>\n</table>\n<p>100 rows × 7 columns</p>\n</div>"
     },
     "execution_count": 111,
     "metadata": {},
     "output_type": "execute_result"
    }
   ],
   "source": [
    "total.head(100)"
   ],
   "metadata": {
    "collapsed": false
   }
  }
 ],
 "metadata": {
  "kernelspec": {
   "display_name": "Python 3",
   "language": "python",
   "name": "python3"
  },
  "language_info": {
   "codemirror_mode": {
    "name": "ipython",
    "version": 3
   },
   "file_extension": ".py",
   "mimetype": "text/x-python",
   "name": "python",
   "nbconvert_exporter": "python",
   "pygments_lexer": "ipython3",
   "version": "3.10.5"
  },
  "orig_nbformat": 4,
  "vscode": {
   "interpreter": {
    "hash": "14b317c4e957ef28741ebbbb1786257a5f4d3e3dcbf27469a9f763009ef38058"
   }
  }
 },
 "nbformat": 4,
 "nbformat_minor": 2
}
