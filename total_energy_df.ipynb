{
 "cells": [
  {
   "cell_type": "code",
   "execution_count": 31,
   "metadata": {},
   "outputs": [
    {
     "name": "stdout",
     "output_type": "stream",
     "text": [
      "<class 'pandas.core.frame.DataFrame'>\n",
      "RangeIndex: 60415 entries, 0 to 60414\n",
      "Data columns (total 4 columns):\n",
      " #   Column    Non-Null Count  Dtype  \n",
      "---  ------    --------------  -----  \n",
      " 0   DOEID     60415 non-null  int64  \n",
      " 1   Purpose   60415 non-null  object \n",
      " 2   Type      60415 non-null  object \n",
      " 3   quantity  60415 non-null  float64\n",
      "dtypes: float64(1), int64(1), object(2)\n",
      "memory usage: 1.8+ MB\n",
      "<class 'pandas.core.frame.DataFrame'>\n",
      "Int64Index: 108747 entries, 0 to 108746\n",
      "Data columns (total 4 columns):\n",
      " #   Column    Non-Null Count   Dtype  \n",
      "---  ------    --------------   -----  \n",
      " 0   DOEID     108747 non-null  int64  \n",
      " 1   Purpose   108747 non-null  object \n",
      " 2   Type      108747 non-null  object \n",
      " 3   quantity  108747 non-null  float64\n",
      "dtypes: float64(1), int64(1), object(2)\n",
      "memory usage: 4.1+ MB\n",
      "<class 'pandas.core.frame.DataFrame'>\n",
      "RangeIndex: 36249 entries, 0 to 36248\n",
      "Data columns (total 5 columns):\n",
      " #   Column            Non-Null Count  Dtype  \n",
      "---  ------            --------------  -----  \n",
      " 0   DOEID             36249 non-null  int64  \n",
      " 1   Purpose_of_Usage  36249 non-null  object \n",
      " 2   quantity          36249 non-null  float64\n",
      " 3   Purpose           36249 non-null  object \n",
      " 4   Type              36249 non-null  object \n",
      "dtypes: float64(1), int64(1), object(3)\n",
      "memory usage: 1.4+ MB\n"
     ]
    }
   ],
   "source": [
    "import numpy as np\n",
    "import pandas as pd\n",
    "import matplotlib.pyplot as plt\n",
    "import matplotlib.cbook as cbook\n",
    "\n",
    "%run btu_df.ipynb\n",
    "%run kwh_df.ipynb\n",
    "%run gallon_df.ipynb\n",
    "%run cubic_feet_df.ipynb"
   ]
  },
  {
   "cell_type": "code",
   "execution_count": 32,
   "outputs": [
    {
     "data": {
      "text/plain": "        DOEID Purpose_of_Usage  quantity\n0           1         BTULPSPH       0.0\n1           2         BTULPSPH       0.0\n2           3         BTULPSPH       0.0\n3           4         BTULPSPH       0.0\n4           5         BTULPSPH       0.0\n...       ...              ...       ...\n217489  12079          BTUWOOD   20000.0\n217490  12080          BTUWOOD       0.0\n217491  12081          BTUWOOD       0.0\n217492  12082          BTUWOOD       0.0\n217493  12083          BTUWOOD       0.0\n\n[217494 rows x 3 columns]",
      "text/html": "<div>\n<style scoped>\n    .dataframe tbody tr th:only-of-type {\n        vertical-align: middle;\n    }\n\n    .dataframe tbody tr th {\n        vertical-align: top;\n    }\n\n    .dataframe thead th {\n        text-align: right;\n    }\n</style>\n<table border=\"1\" class=\"dataframe\">\n  <thead>\n    <tr style=\"text-align: right;\">\n      <th></th>\n      <th>DOEID</th>\n      <th>Purpose_of_Usage</th>\n      <th>quantity</th>\n    </tr>\n  </thead>\n  <tbody>\n    <tr>\n      <th>0</th>\n      <td>1</td>\n      <td>BTULPSPH</td>\n      <td>0.0</td>\n    </tr>\n    <tr>\n      <th>1</th>\n      <td>2</td>\n      <td>BTULPSPH</td>\n      <td>0.0</td>\n    </tr>\n    <tr>\n      <th>2</th>\n      <td>3</td>\n      <td>BTULPSPH</td>\n      <td>0.0</td>\n    </tr>\n    <tr>\n      <th>3</th>\n      <td>4</td>\n      <td>BTULPSPH</td>\n      <td>0.0</td>\n    </tr>\n    <tr>\n      <th>4</th>\n      <td>5</td>\n      <td>BTULPSPH</td>\n      <td>0.0</td>\n    </tr>\n    <tr>\n      <th>...</th>\n      <td>...</td>\n      <td>...</td>\n      <td>...</td>\n    </tr>\n    <tr>\n      <th>217489</th>\n      <td>12079</td>\n      <td>BTUWOOD</td>\n      <td>20000.0</td>\n    </tr>\n    <tr>\n      <th>217490</th>\n      <td>12080</td>\n      <td>BTUWOOD</td>\n      <td>0.0</td>\n    </tr>\n    <tr>\n      <th>217491</th>\n      <td>12081</td>\n      <td>BTUWOOD</td>\n      <td>0.0</td>\n    </tr>\n    <tr>\n      <th>217492</th>\n      <td>12082</td>\n      <td>BTUWOOD</td>\n      <td>0.0</td>\n    </tr>\n    <tr>\n      <th>217493</th>\n      <td>12083</td>\n      <td>BTUWOOD</td>\n      <td>0.0</td>\n    </tr>\n  </tbody>\n</table>\n<p>217494 rows × 3 columns</p>\n</div>"
     },
     "execution_count": 32,
     "metadata": {},
     "output_type": "execute_result"
    }
   ],
   "source": [
    "btu_df"
   ],
   "metadata": {
    "collapsed": false
   }
  },
  {
   "cell_type": "code",
   "execution_count": 33,
   "outputs": [
    {
     "data": {
      "text/plain": "        DOEID Purpose_of_Usage  quantity\n0           1      GALLONLPSPH       0.0\n1           2      GALLONLPSPH       0.0\n2           3      GALLONLPSPH       0.0\n3           4      GALLONLPSPH       0.0\n4           5      GALLONLPSPH       0.0\n...       ...              ...       ...\n108742  12079     GALLONKEROTH       0.0\n108743  12080     GALLONKEROTH       0.0\n108744  12081     GALLONKEROTH       0.0\n108745  12082     GALLONKEROTH       0.0\n108746  12083     GALLONKEROTH       0.0\n\n[108747 rows x 3 columns]",
      "text/html": "<div>\n<style scoped>\n    .dataframe tbody tr th:only-of-type {\n        vertical-align: middle;\n    }\n\n    .dataframe tbody tr th {\n        vertical-align: top;\n    }\n\n    .dataframe thead th {\n        text-align: right;\n    }\n</style>\n<table border=\"1\" class=\"dataframe\">\n  <thead>\n    <tr style=\"text-align: right;\">\n      <th></th>\n      <th>DOEID</th>\n      <th>Purpose_of_Usage</th>\n      <th>quantity</th>\n    </tr>\n  </thead>\n  <tbody>\n    <tr>\n      <th>0</th>\n      <td>1</td>\n      <td>GALLONLPSPH</td>\n      <td>0.0</td>\n    </tr>\n    <tr>\n      <th>1</th>\n      <td>2</td>\n      <td>GALLONLPSPH</td>\n      <td>0.0</td>\n    </tr>\n    <tr>\n      <th>2</th>\n      <td>3</td>\n      <td>GALLONLPSPH</td>\n      <td>0.0</td>\n    </tr>\n    <tr>\n      <th>3</th>\n      <td>4</td>\n      <td>GALLONLPSPH</td>\n      <td>0.0</td>\n    </tr>\n    <tr>\n      <th>4</th>\n      <td>5</td>\n      <td>GALLONLPSPH</td>\n      <td>0.0</td>\n    </tr>\n    <tr>\n      <th>...</th>\n      <td>...</td>\n      <td>...</td>\n      <td>...</td>\n    </tr>\n    <tr>\n      <th>108742</th>\n      <td>12079</td>\n      <td>GALLONKEROTH</td>\n      <td>0.0</td>\n    </tr>\n    <tr>\n      <th>108743</th>\n      <td>12080</td>\n      <td>GALLONKEROTH</td>\n      <td>0.0</td>\n    </tr>\n    <tr>\n      <th>108744</th>\n      <td>12081</td>\n      <td>GALLONKEROTH</td>\n      <td>0.0</td>\n    </tr>\n    <tr>\n      <th>108745</th>\n      <td>12082</td>\n      <td>GALLONKEROTH</td>\n      <td>0.0</td>\n    </tr>\n    <tr>\n      <th>108746</th>\n      <td>12083</td>\n      <td>GALLONKEROTH</td>\n      <td>0.0</td>\n    </tr>\n  </tbody>\n</table>\n<p>108747 rows × 3 columns</p>\n</div>"
     },
     "execution_count": 33,
     "metadata": {},
     "output_type": "execute_result"
    }
   ],
   "source": [
    "gallon_df"
   ],
   "metadata": {
    "collapsed": false
   }
  },
  {
   "cell_type": "code",
   "execution_count": null,
   "metadata": {
    "pycharm": {
     "is_executing": true
    }
   },
   "outputs": [],
   "source": []
  },
  {
   "cell_type": "code",
   "execution_count": null,
   "outputs": [],
   "source": [],
   "metadata": {
    "collapsed": false,
    "pycharm": {
     "is_executing": true
    }
   }
  }
 ],
 "metadata": {
  "kernelspec": {
   "display_name": "Python 3",
   "language": "python",
   "name": "python3"
  },
  "language_info": {
   "codemirror_mode": {
    "name": "ipython",
    "version": 3
   },
   "file_extension": ".py",
   "mimetype": "text/x-python",
   "name": "python",
   "nbconvert_exporter": "python",
   "pygments_lexer": "ipython3",
   "version": "3.10.5"
  },
  "orig_nbformat": 4,
  "vscode": {
   "interpreter": {
    "hash": "14b317c4e957ef28741ebbbb1786257a5f4d3e3dcbf27469a9f763009ef38058"
   }
  }
 },
 "nbformat": 4,
 "nbformat_minor": 2
}
