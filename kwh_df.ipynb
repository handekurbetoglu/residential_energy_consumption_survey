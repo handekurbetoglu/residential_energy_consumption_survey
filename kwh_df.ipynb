{
 "cells": [
  {
   "cell_type": "code",
   "execution_count": 6,
   "metadata": {},
   "outputs": [],
   "source": [
    "import pandas as pd\n",
    "import numpy as np\n",
    "%run energy_df_1.ipynb"
   ]
  },
  {
   "cell_type": "code",
   "execution_count": 7,
   "metadata": {},
   "outputs": [
    {
     "data": {
      "text/plain": "       DOEID Purpose Type  quantity\n0          1     SPH   EL  3186.707\n1          2     SPH   EL     0.000\n2          3     SPH   EL     0.000\n3          4     SPH   EL     0.000\n4          5     SPH   EL     0.000\n...      ...     ...  ...       ...\n60410  12079     RFG   EL   566.544\n60411  12080     RFG   EL   580.105\n60412  12081     RFG   EL  2172.621\n60413  12082     RFG   EL  1851.648\n60414  12083     RFG   EL   418.766\n\n[60415 rows x 4 columns]",
      "text/html": "<div>\n<style scoped>\n    .dataframe tbody tr th:only-of-type {\n        vertical-align: middle;\n    }\n\n    .dataframe tbody tr th {\n        vertical-align: top;\n    }\n\n    .dataframe thead th {\n        text-align: right;\n    }\n</style>\n<table border=\"1\" class=\"dataframe\">\n  <thead>\n    <tr style=\"text-align: right;\">\n      <th></th>\n      <th>DOEID</th>\n      <th>Purpose</th>\n      <th>Type</th>\n      <th>quantity</th>\n    </tr>\n  </thead>\n  <tbody>\n    <tr>\n      <th>0</th>\n      <td>1</td>\n      <td>SPH</td>\n      <td>EL</td>\n      <td>3186.707</td>\n    </tr>\n    <tr>\n      <th>1</th>\n      <td>2</td>\n      <td>SPH</td>\n      <td>EL</td>\n      <td>0.000</td>\n    </tr>\n    <tr>\n      <th>2</th>\n      <td>3</td>\n      <td>SPH</td>\n      <td>EL</td>\n      <td>0.000</td>\n    </tr>\n    <tr>\n      <th>3</th>\n      <td>4</td>\n      <td>SPH</td>\n      <td>EL</td>\n      <td>0.000</td>\n    </tr>\n    <tr>\n      <th>4</th>\n      <td>5</td>\n      <td>SPH</td>\n      <td>EL</td>\n      <td>0.000</td>\n    </tr>\n    <tr>\n      <th>...</th>\n      <td>...</td>\n      <td>...</td>\n      <td>...</td>\n      <td>...</td>\n    </tr>\n    <tr>\n      <th>60410</th>\n      <td>12079</td>\n      <td>RFG</td>\n      <td>EL</td>\n      <td>566.544</td>\n    </tr>\n    <tr>\n      <th>60411</th>\n      <td>12080</td>\n      <td>RFG</td>\n      <td>EL</td>\n      <td>580.105</td>\n    </tr>\n    <tr>\n      <th>60412</th>\n      <td>12081</td>\n      <td>RFG</td>\n      <td>EL</td>\n      <td>2172.621</td>\n    </tr>\n    <tr>\n      <th>60413</th>\n      <td>12082</td>\n      <td>RFG</td>\n      <td>EL</td>\n      <td>1851.648</td>\n    </tr>\n    <tr>\n      <th>60414</th>\n      <td>12083</td>\n      <td>RFG</td>\n      <td>EL</td>\n      <td>418.766</td>\n    </tr>\n  </tbody>\n</table>\n<p>60415 rows × 4 columns</p>\n</div>"
     },
     "execution_count": 7,
     "metadata": {},
     "output_type": "execute_result"
    }
   ],
   "source": [
    "kwh_df['Purpose'] = kwh_df.Purpose_of_Usage.str[-3:]\n",
    "kwh_df['Type'] = 'EL'\n",
    "kwh_df = kwh_df[['DOEID', 'Purpose','Type', 'quantity']]\n",
    "kwh_df.sort_values(by='DOEID')\n",
    "kwh_df"
   ]
  },
  {
   "cell_type": "code",
   "execution_count": 8,
   "metadata": {},
   "outputs": [],
   "source": [
    "kwh_df.loc[kwh_df[\"Purpose\"] == 'OOD', \"Purpose\"] = \"WOOD\"\n",
    "kwh_df.loc[kwh_df[\"Purpose\"] == 'SPH', \"Purpose\"] = \"Space Heating\"\n",
    "kwh_df.loc[kwh_df[\"Purpose\"] == 'WTH', \"Purpose\"] = \"Water Heating\"\n",
    "kwh_df.loc[kwh_df[\"Purpose\"] == 'OTH', \"Purpose\"] = \"Other\"\n",
    "kwh_df.loc[kwh_df[\"Purpose\"] == 'RFG', \"Purpose\"] = \"Refrigerator\"\n",
    "kwh_df.loc[kwh_df[\"Purpose\"] == 'COL', \"Purpose\"] = \"Air Conditioner\""
   ]
  },
  {
   "cell_type": "code",
   "execution_count": 9,
   "metadata": {},
   "outputs": [
    {
     "name": "stdout",
     "output_type": "stream",
     "text": [
      "<class 'pandas.core.frame.DataFrame'>\n",
      "RangeIndex: 60415 entries, 0 to 60414\n",
      "Data columns (total 4 columns):\n",
      " #   Column    Non-Null Count  Dtype  \n",
      "---  ------    --------------  -----  \n",
      " 0   DOEID     60415 non-null  int64  \n",
      " 1   Purpose   60415 non-null  object \n",
      " 2   Type      60415 non-null  object \n",
      " 3   quantity  60415 non-null  float64\n",
      "dtypes: float64(1), int64(1), object(2)\n",
      "memory usage: 1.8+ MB\n"
     ]
    }
   ],
   "source": [
    "kwh_df.value_counts('Purpose')\n",
    "kwh_df.info()\n"
   ]
  },
  {
   "cell_type": "markdown",
   "metadata": {},
   "source": []
  },
  {
   "cell_type": "code",
   "execution_count": 10,
   "metadata": {},
   "outputs": [
    {
     "data": {
      "text/plain": "           Purpose     quantity\n0  Air Conditioner  1685.269124\n1            Other  6299.518633\n2     Refrigerator  1243.170014\n3    Space Heating   999.018141\n4    Water Heating  1061.183490",
      "text/html": "<div>\n<style scoped>\n    .dataframe tbody tr th:only-of-type {\n        vertical-align: middle;\n    }\n\n    .dataframe tbody tr th {\n        vertical-align: top;\n    }\n\n    .dataframe thead th {\n        text-align: right;\n    }\n</style>\n<table border=\"1\" class=\"dataframe\">\n  <thead>\n    <tr style=\"text-align: right;\">\n      <th></th>\n      <th>Purpose</th>\n      <th>quantity</th>\n    </tr>\n  </thead>\n  <tbody>\n    <tr>\n      <th>0</th>\n      <td>Air Conditioner</td>\n      <td>1685.269124</td>\n    </tr>\n    <tr>\n      <th>1</th>\n      <td>Other</td>\n      <td>6299.518633</td>\n    </tr>\n    <tr>\n      <th>2</th>\n      <td>Refrigerator</td>\n      <td>1243.170014</td>\n    </tr>\n    <tr>\n      <th>3</th>\n      <td>Space Heating</td>\n      <td>999.018141</td>\n    </tr>\n    <tr>\n      <th>4</th>\n      <td>Water Heating</td>\n      <td>1061.183490</td>\n    </tr>\n  </tbody>\n</table>\n</div>"
     },
     "execution_count": 10,
     "metadata": {},
     "output_type": "execute_result"
    }
   ],
   "source": [
    "kwh_df.groupby(['Purpose'], as_index=False)['quantity'].mean()"
   ]
  },
  {
   "cell_type": "code",
   "execution_count": 11,
   "metadata": {},
   "outputs": [],
   "source": [
    "kwh_df_updated = kwh_df"
   ]
  }
 ],
 "metadata": {
  "kernelspec": {
   "display_name": "Python 3",
   "language": "python",
   "name": "python3"
  },
  "language_info": {
   "codemirror_mode": {
    "name": "ipython",
    "version": 3
   },
   "file_extension": ".py",
   "mimetype": "text/x-python",
   "name": "python",
   "nbconvert_exporter": "python",
   "pygments_lexer": "ipython3",
   "version": "3.10.5 (tags/v3.10.5:f377153, Jun  6 2022, 16:14:13) [MSC v.1929 64 bit (AMD64)]"
  },
  "orig_nbformat": 4,
  "vscode": {
   "interpreter": {
    "hash": "14b317c4e957ef28741ebbbb1786257a5f4d3e3dcbf27469a9f763009ef38058"
   }
  }
 },
 "nbformat": 4,
 "nbformat_minor": 2
}
