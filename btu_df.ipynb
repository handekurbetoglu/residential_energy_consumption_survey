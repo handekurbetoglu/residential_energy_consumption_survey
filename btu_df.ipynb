{
 "cells": [
  {
   "cell_type": "code",
   "execution_count": 24,
   "metadata": {},
   "outputs": [],
   "source": [
    "import pandas as pd\n",
    "import numpy as np\n",
    "%run energy_df_1.ipynb"
   ]
  },
  {
   "cell_type": "code",
   "execution_count": 25,
   "metadata": {},
   "outputs": [],
   "source": [
    "\n",
    "btu_df['Purpose_of_Usage'] = btu_df.Purpose_of_Usage.str[3:]\n",
    "btu_df['Purpose'] = btu_df.Purpose_of_Usage.str[-3:]\n",
    "btu_df['Type'] = btu_df.Purpose_of_Usage.str[:-3]\n",
    "btu_df= btu_df.sort_values(by='DOEID')"
   ]
  },
  {
   "cell_type": "code",
   "execution_count": 26,
   "metadata": {},
   "outputs": [
    {
     "data": {
      "text/plain": "Type\nEL     60415\nFO     36249\nKER    36249\nLP     36249\nNG     36249\nW      12083\ndtype: int64"
     },
     "execution_count": 26,
     "metadata": {},
     "output_type": "execute_result"
    }
   ],
   "source": [
    "btu_df.value_counts('Type')\n"
   ]
  },
  {
   "cell_type": "code",
   "execution_count": 27,
   "metadata": {},
   "outputs": [],
   "source": [
    "btu_df.drop('Purpose_of_Usage', inplace=True, axis=1)"
   ]
  },
  {
   "cell_type": "code",
   "execution_count": 28,
   "metadata": {},
   "outputs": [],
   "source": [
    "btu_df = btu_df[['DOEID','Purpose', 'Type', 'quantity']]"
   ]
  },
  {
   "cell_type": "code",
   "execution_count": 29,
   "metadata": {},
   "outputs": [],
   "source": [
    "btu_df.loc[btu_df[\"Purpose\"] == 'OOD', \"Purpose\"] = \"WOOD\"\n",
    "btu_df.loc[btu_df[\"Purpose\"] == 'SPH', \"Purpose\"] = \"Space Heating\"\n",
    "btu_df.loc[btu_df[\"Purpose\"] == 'WTH', \"Purpose\"] = \"Water Heating\"\n",
    "btu_df.loc[btu_df[\"Purpose\"] == 'OTH', \"Purpose\"] = \"Other\"\n",
    "btu_df.loc[btu_df[\"Purpose\"] == 'RFG', \"Purpose\"] = \"Refrigerator\"\n",
    "btu_df.loc[btu_df[\"Purpose\"] == 'COL', \"Purpose\"] = \"Air Conditioner\"\n",
    "\n",
    "\n",
    "\n"
   ]
  },
  {
   "cell_type": "code",
   "execution_count": 29,
   "outputs": [],
   "source": [],
   "metadata": {
    "collapsed": false
   }
  },
  {
   "cell_type": "code",
   "execution_count": 30,
   "metadata": {},
   "outputs": [],
   "source": [
    "#btu_df.groupby(['Purpose','Type'], as_index=False)['quantity'].mean()\n"
   ]
  },
  {
   "cell_type": "code",
   "execution_count": 31,
   "metadata": {},
   "outputs": [],
   "source": [
    "btu_df_updated = btu_df"
   ]
  },
  {
   "cell_type": "code",
   "execution_count": 32,
   "outputs": [
    {
     "data": {
      "text/plain": "        DOEID          Purpose Type   quantity\n0           1    Space Heating   LP      0.000\n193328      1     Refrigerator   EL   5170.899\n24166       1            Other   LP      0.000\n181245      1  Air Conditioner   EL  10470.729\n36249       1    Space Heating   NG      0.000\n...       ...              ...  ...        ...\n157078  12083    Space Heating   EL    327.116\n169161  12083    Water Heating   EL      0.000\n181244  12083            Other   EL   4262.461\n96663   12083    Water Heating   FO      0.000\n217493  12083             WOOD    W      0.000\n\n[217494 rows x 4 columns]",
      "text/html": "<div>\n<style scoped>\n    .dataframe tbody tr th:only-of-type {\n        vertical-align: middle;\n    }\n\n    .dataframe tbody tr th {\n        vertical-align: top;\n    }\n\n    .dataframe thead th {\n        text-align: right;\n    }\n</style>\n<table border=\"1\" class=\"dataframe\">\n  <thead>\n    <tr style=\"text-align: right;\">\n      <th></th>\n      <th>DOEID</th>\n      <th>Purpose</th>\n      <th>Type</th>\n      <th>quantity</th>\n    </tr>\n  </thead>\n  <tbody>\n    <tr>\n      <th>0</th>\n      <td>1</td>\n      <td>Space Heating</td>\n      <td>LP</td>\n      <td>0.000</td>\n    </tr>\n    <tr>\n      <th>193328</th>\n      <td>1</td>\n      <td>Refrigerator</td>\n      <td>EL</td>\n      <td>5170.899</td>\n    </tr>\n    <tr>\n      <th>24166</th>\n      <td>1</td>\n      <td>Other</td>\n      <td>LP</td>\n      <td>0.000</td>\n    </tr>\n    <tr>\n      <th>181245</th>\n      <td>1</td>\n      <td>Air Conditioner</td>\n      <td>EL</td>\n      <td>10470.729</td>\n    </tr>\n    <tr>\n      <th>36249</th>\n      <td>1</td>\n      <td>Space Heating</td>\n      <td>NG</td>\n      <td>0.000</td>\n    </tr>\n    <tr>\n      <th>...</th>\n      <td>...</td>\n      <td>...</td>\n      <td>...</td>\n      <td>...</td>\n    </tr>\n    <tr>\n      <th>157078</th>\n      <td>12083</td>\n      <td>Space Heating</td>\n      <td>EL</td>\n      <td>327.116</td>\n    </tr>\n    <tr>\n      <th>169161</th>\n      <td>12083</td>\n      <td>Water Heating</td>\n      <td>EL</td>\n      <td>0.000</td>\n    </tr>\n    <tr>\n      <th>181244</th>\n      <td>12083</td>\n      <td>Other</td>\n      <td>EL</td>\n      <td>4262.461</td>\n    </tr>\n    <tr>\n      <th>96663</th>\n      <td>12083</td>\n      <td>Water Heating</td>\n      <td>FO</td>\n      <td>0.000</td>\n    </tr>\n    <tr>\n      <th>217493</th>\n      <td>12083</td>\n      <td>WOOD</td>\n      <td>W</td>\n      <td>0.000</td>\n    </tr>\n  </tbody>\n</table>\n<p>217494 rows × 4 columns</p>\n</div>"
     },
     "execution_count": 32,
     "metadata": {},
     "output_type": "execute_result"
    }
   ],
   "source": [
    "btu_df_updated"
   ],
   "metadata": {
    "collapsed": false
   }
  },
  {
   "cell_type": "code",
   "execution_count": null,
   "outputs": [],
   "source": [],
   "metadata": {
    "collapsed": false
   }
  }
 ],
 "metadata": {
  "kernelspec": {
   "display_name": "Python 3",
   "language": "python",
   "name": "python3"
  },
  "language_info": {
   "codemirror_mode": {
    "name": "ipython",
    "version": 3
   },
   "file_extension": ".py",
   "mimetype": "text/x-python",
   "name": "python",
   "nbconvert_exporter": "python",
   "pygments_lexer": "ipython3",
   "version": "3.10.5"
  },
  "orig_nbformat": 4,
  "vscode": {
   "interpreter": {
    "hash": "14b317c4e957ef28741ebbbb1786257a5f4d3e3dcbf27469a9f763009ef38058"
   }
  }
 },
 "nbformat": 4,
 "nbformat_minor": 2
}
