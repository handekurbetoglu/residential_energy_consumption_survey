{
 "cells": [
  {
   "cell_type": "code",
   "execution_count": 8,
   "metadata": {},
   "outputs": [],
   "source": [
    "import pandas as pd\n",
    "import numpy as np\n",
    "%run energy_df_1.ipynb"
   ]
  },
  {
   "cell_type": "code",
   "execution_count": 9,
   "metadata": {},
   "outputs": [
    {
     "data": {
      "text/plain": "       DOEID Purpose_of_Usage  quantity Purpose\n0          1            NGSPH     0.000     SPH\n1          2            NGSPH   376.643     SPH\n2          3            NGSPH   392.662     SPH\n3          4            NGSPH   392.152     SPH\n4          5            NGSPH   352.549     SPH\n...      ...              ...       ...     ...\n36244  12079            NGOTH     0.000     OTH\n36245  12080            NGOTH    19.949     OTH\n36246  12081            NGOTH   192.014     OTH\n36247  12082            NGOTH    32.810     OTH\n36248  12083            NGOTH    25.647     OTH\n\n[36249 rows x 4 columns]",
      "text/html": "<div>\n<style scoped>\n    .dataframe tbody tr th:only-of-type {\n        vertical-align: middle;\n    }\n\n    .dataframe tbody tr th {\n        vertical-align: top;\n    }\n\n    .dataframe thead th {\n        text-align: right;\n    }\n</style>\n<table border=\"1\" class=\"dataframe\">\n  <thead>\n    <tr style=\"text-align: right;\">\n      <th></th>\n      <th>DOEID</th>\n      <th>Purpose_of_Usage</th>\n      <th>quantity</th>\n      <th>Purpose</th>\n    </tr>\n  </thead>\n  <tbody>\n    <tr>\n      <th>0</th>\n      <td>1</td>\n      <td>NGSPH</td>\n      <td>0.000</td>\n      <td>SPH</td>\n    </tr>\n    <tr>\n      <th>1</th>\n      <td>2</td>\n      <td>NGSPH</td>\n      <td>376.643</td>\n      <td>SPH</td>\n    </tr>\n    <tr>\n      <th>2</th>\n      <td>3</td>\n      <td>NGSPH</td>\n      <td>392.662</td>\n      <td>SPH</td>\n    </tr>\n    <tr>\n      <th>3</th>\n      <td>4</td>\n      <td>NGSPH</td>\n      <td>392.152</td>\n      <td>SPH</td>\n    </tr>\n    <tr>\n      <th>4</th>\n      <td>5</td>\n      <td>NGSPH</td>\n      <td>352.549</td>\n      <td>SPH</td>\n    </tr>\n    <tr>\n      <th>...</th>\n      <td>...</td>\n      <td>...</td>\n      <td>...</td>\n      <td>...</td>\n    </tr>\n    <tr>\n      <th>36244</th>\n      <td>12079</td>\n      <td>NGOTH</td>\n      <td>0.000</td>\n      <td>OTH</td>\n    </tr>\n    <tr>\n      <th>36245</th>\n      <td>12080</td>\n      <td>NGOTH</td>\n      <td>19.949</td>\n      <td>OTH</td>\n    </tr>\n    <tr>\n      <th>36246</th>\n      <td>12081</td>\n      <td>NGOTH</td>\n      <td>192.014</td>\n      <td>OTH</td>\n    </tr>\n    <tr>\n      <th>36247</th>\n      <td>12082</td>\n      <td>NGOTH</td>\n      <td>32.810</td>\n      <td>OTH</td>\n    </tr>\n    <tr>\n      <th>36248</th>\n      <td>12083</td>\n      <td>NGOTH</td>\n      <td>25.647</td>\n      <td>OTH</td>\n    </tr>\n  </tbody>\n</table>\n<p>36249 rows × 4 columns</p>\n</div>"
     },
     "execution_count": 9,
     "metadata": {},
     "output_type": "execute_result"
    }
   ],
   "source": [
    "\n",
    "cufeet_df['Purpose_of_Usage'] = cufeet_df.Purpose_of_Usage.str[6:]\n",
    "cufeet_df['Purpose'] = cufeet_df.Purpose_of_Usage.str[-3:]\n",
    "cufeet_df"
   ]
  },
  {
   "cell_type": "code",
   "execution_count": 10,
   "metadata": {},
   "outputs": [
    {
     "name": "stdout",
     "output_type": "stream",
     "text": [
      "<class 'pandas.core.frame.DataFrame'>\n",
      "RangeIndex: 36249 entries, 0 to 36248\n",
      "Data columns (total 5 columns):\n",
      " #   Column            Non-Null Count  Dtype  \n",
      "---  ------            --------------  -----  \n",
      " 0   DOEID             36249 non-null  int64  \n",
      " 1   Purpose_of_Usage  36249 non-null  object \n",
      " 2   quantity          36249 non-null  float64\n",
      " 3   Purpose           36249 non-null  object \n",
      " 4   Type              36249 non-null  object \n",
      "dtypes: float64(1), int64(1), object(3)\n",
      "memory usage: 1.4+ MB\n"
     ]
    }
   ],
   "source": [
    "cufeet_df['Type'] = cufeet_df.Purpose_of_Usage.str[0:-3]\n",
    "cufeet_df.info()\n"
   ]
  },
  {
   "cell_type": "code",
   "execution_count": 11,
   "metadata": {},
   "outputs": [
    {
     "data": {
      "text/plain": "Type\nNG    36249\ndtype: int64"
     },
     "execution_count": 11,
     "metadata": {},
     "output_type": "execute_result"
    }
   ],
   "source": [
    "cufeet_df = cufeet_df[['DOEID', 'Type', 'Purpose', 'quantity']]\n",
    "cufeet_df.sort_values(by='DOEID')\n",
    "cufeet_df.value_counts('Type')"
   ]
  },
  {
   "cell_type": "code",
   "execution_count": 12,
   "metadata": {},
   "outputs": [],
   "source": [
    "cufeet_df.loc[cufeet_df[\"Purpose\"] == 'OOD', \"Purpose\"] = \"WOOD\"\n",
    "cufeet_df.loc[cufeet_df[\"Purpose\"] == 'SPH', \"Purpose\"] = \"Space Heating\"\n",
    "cufeet_df.loc[cufeet_df[\"Purpose\"] == 'WTH', \"Purpose\"] = \"Water Heating\"\n",
    "cufeet_df.loc[cufeet_df[\"Purpose\"] == 'OTH', \"Purpose\"] = \"Other\"\n",
    "cufeet_df.loc[cufeet_df[\"Purpose\"] == 'RFG', \"Purpose\"] = \"Refrigerator\"\n",
    "cufeet_df.loc[cufeet_df[\"Purpose\"] == 'COL', \"Purpose\"] = \"Air Conditioner\""
   ]
  },
  {
   "cell_type": "code",
   "execution_count": 13,
   "metadata": {},
   "outputs": [
    {
     "data": {
      "text/plain": "                     DOEID    quantity\nType Purpose                          \nNG   Other          6042.0   46.166379\n     Space Heating  6042.0  249.091509\n     Water Heating  6042.0  110.050895",
      "text/html": "<div>\n<style scoped>\n    .dataframe tbody tr th:only-of-type {\n        vertical-align: middle;\n    }\n\n    .dataframe tbody tr th {\n        vertical-align: top;\n    }\n\n    .dataframe thead th {\n        text-align: right;\n    }\n</style>\n<table border=\"1\" class=\"dataframe\">\n  <thead>\n    <tr style=\"text-align: right;\">\n      <th></th>\n      <th></th>\n      <th>DOEID</th>\n      <th>quantity</th>\n    </tr>\n    <tr>\n      <th>Type</th>\n      <th>Purpose</th>\n      <th></th>\n      <th></th>\n    </tr>\n  </thead>\n  <tbody>\n    <tr>\n      <th rowspan=\"3\" valign=\"top\">NG</th>\n      <th>Other</th>\n      <td>6042.0</td>\n      <td>46.166379</td>\n    </tr>\n    <tr>\n      <th>Space Heating</th>\n      <td>6042.0</td>\n      <td>249.091509</td>\n    </tr>\n    <tr>\n      <th>Water Heating</th>\n      <td>6042.0</td>\n      <td>110.050895</td>\n    </tr>\n  </tbody>\n</table>\n</div>"
     },
     "execution_count": 13,
     "metadata": {},
     "output_type": "execute_result"
    }
   ],
   "source": [
    "cufeet_df.groupby(['Type', 'Purpose'], as_index=True).mean('CUBIC_FEET')"
   ]
  },
  {
   "cell_type": "code",
   "execution_count": 14,
   "metadata": {},
   "outputs": [],
   "source": [
    "cufeet_df_updated = cufeet_df"
   ]
  }
 ],
 "metadata": {
  "kernelspec": {
   "display_name": "Python 3",
   "language": "python",
   "name": "python3"
  },
  "language_info": {
   "codemirror_mode": {
    "name": "ipython",
    "version": 3
   },
   "file_extension": ".py",
   "mimetype": "text/x-python",
   "name": "python",
   "nbconvert_exporter": "python",
   "pygments_lexer": "ipython3",
   "version": "3.10.5"
  },
  "orig_nbformat": 4,
  "vscode": {
   "interpreter": {
    "hash": "14b317c4e957ef28741ebbbb1786257a5f4d3e3dcbf27469a9f763009ef38058"
   }
  }
 },
 "nbformat": 4,
 "nbformat_minor": 2
}
