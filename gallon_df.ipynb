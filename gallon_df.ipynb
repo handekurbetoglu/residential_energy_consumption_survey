{
 "cells": [
  {
   "cell_type": "code",
   "execution_count": 8,
   "metadata": {},
   "outputs": [],
   "source": [
    "import pandas as pd\n",
    "import numpy as np\n",
    "%run energy_df_1.ipynb"
   ]
  },
  {
   "cell_type": "code",
   "execution_count": 9,
   "metadata": {},
   "outputs": [
    {
     "data": {
      "text/plain": "        DOEID Purpose_of_Usage  quantity Type Purpose\n0           1            LPSPH       0.0   LP     SPH\n84581       1           KERWTH       0.0  KER     WTH\n24166       1            LPOTH       0.0   LP     OTH\n12083       1            LPWTH       0.0   LP     WTH\n96664       1           KEROTH       0.0  KER     OTH\n...       ...              ...       ...  ...     ...\n84580   12083           KERSPH       0.0  KER     SPH\n72497   12083            FOOTH       0.0   FO     OTH\n36248   12083            LPOTH       0.0   LP     OTH\n24165   12083            LPWTH       0.0   LP     WTH\n108746  12083           KEROTH       0.0  KER     OTH\n\n[108747 rows x 5 columns]",
      "text/html": "<div>\n<style scoped>\n    .dataframe tbody tr th:only-of-type {\n        vertical-align: middle;\n    }\n\n    .dataframe tbody tr th {\n        vertical-align: top;\n    }\n\n    .dataframe thead th {\n        text-align: right;\n    }\n</style>\n<table border=\"1\" class=\"dataframe\">\n  <thead>\n    <tr style=\"text-align: right;\">\n      <th></th>\n      <th>DOEID</th>\n      <th>Purpose_of_Usage</th>\n      <th>quantity</th>\n      <th>Type</th>\n      <th>Purpose</th>\n    </tr>\n  </thead>\n  <tbody>\n    <tr>\n      <th>0</th>\n      <td>1</td>\n      <td>LPSPH</td>\n      <td>0.0</td>\n      <td>LP</td>\n      <td>SPH</td>\n    </tr>\n    <tr>\n      <th>84581</th>\n      <td>1</td>\n      <td>KERWTH</td>\n      <td>0.0</td>\n      <td>KER</td>\n      <td>WTH</td>\n    </tr>\n    <tr>\n      <th>24166</th>\n      <td>1</td>\n      <td>LPOTH</td>\n      <td>0.0</td>\n      <td>LP</td>\n      <td>OTH</td>\n    </tr>\n    <tr>\n      <th>12083</th>\n      <td>1</td>\n      <td>LPWTH</td>\n      <td>0.0</td>\n      <td>LP</td>\n      <td>WTH</td>\n    </tr>\n    <tr>\n      <th>96664</th>\n      <td>1</td>\n      <td>KEROTH</td>\n      <td>0.0</td>\n      <td>KER</td>\n      <td>OTH</td>\n    </tr>\n    <tr>\n      <th>...</th>\n      <td>...</td>\n      <td>...</td>\n      <td>...</td>\n      <td>...</td>\n      <td>...</td>\n    </tr>\n    <tr>\n      <th>84580</th>\n      <td>12083</td>\n      <td>KERSPH</td>\n      <td>0.0</td>\n      <td>KER</td>\n      <td>SPH</td>\n    </tr>\n    <tr>\n      <th>72497</th>\n      <td>12083</td>\n      <td>FOOTH</td>\n      <td>0.0</td>\n      <td>FO</td>\n      <td>OTH</td>\n    </tr>\n    <tr>\n      <th>36248</th>\n      <td>12083</td>\n      <td>LPOTH</td>\n      <td>0.0</td>\n      <td>LP</td>\n      <td>OTH</td>\n    </tr>\n    <tr>\n      <th>24165</th>\n      <td>12083</td>\n      <td>LPWTH</td>\n      <td>0.0</td>\n      <td>LP</td>\n      <td>WTH</td>\n    </tr>\n    <tr>\n      <th>108746</th>\n      <td>12083</td>\n      <td>KEROTH</td>\n      <td>0.0</td>\n      <td>KER</td>\n      <td>OTH</td>\n    </tr>\n  </tbody>\n</table>\n<p>108747 rows × 5 columns</p>\n</div>"
     },
     "execution_count": 9,
     "metadata": {},
     "output_type": "execute_result"
    }
   ],
   "source": [
    "gallon_df['Purpose_of_Usage'] = gallon_df.Purpose_of_Usage.str[6:]\n",
    "gallon_df['Type'] = gallon_df.Purpose_of_Usage.str[:-3]\n",
    "gallon_df['Purpose'] = gallon_df.Purpose_of_Usage.str[-3:]\n",
    "\n",
    "gallon_df= gallon_df.sort_values(by='DOEID')\n",
    "gallon_df"
   ]
  },
  {
   "cell_type": "code",
   "execution_count": 10,
   "metadata": {},
   "outputs": [],
   "source": [
    "gallon_df = gallon_df[['DOEID', 'Purpose', 'Type', 'quantity']]"
   ]
  },
  {
   "cell_type": "code",
   "execution_count": 11,
   "metadata": {},
   "outputs": [
    {
     "name": "stdout",
     "output_type": "stream",
     "text": [
      "<class 'pandas.core.frame.DataFrame'>\n",
      "Int64Index: 108747 entries, 0 to 108746\n",
      "Data columns (total 4 columns):\n",
      " #   Column    Non-Null Count   Dtype  \n",
      "---  ------    --------------   -----  \n",
      " 0   DOEID     108747 non-null  int64  \n",
      " 1   Purpose   108747 non-null  object \n",
      " 2   Type      108747 non-null  object \n",
      " 3   quantity  108747 non-null  float64\n",
      "dtypes: float64(1), int64(1), object(2)\n",
      "memory usage: 4.1+ MB\n"
     ]
    }
   ],
   "source": [
    "gallon_df.info()"
   ]
  },
  {
   "cell_type": "code",
   "execution_count": 12,
   "metadata": {},
   "outputs": [],
   "source": [
    "gallon_df.loc[gallon_df[\"Purpose\"] == 'OOD', \"Purpose\"] = \"WOOD\"\n",
    "gallon_df.loc[gallon_df[\"Purpose\"] == 'SPH', \"Purpose\"] = \"Space Heating\"\n",
    "gallon_df.loc[gallon_df[\"Purpose\"] == 'WTH', \"Purpose\"] = \"Water Heating\"\n",
    "gallon_df.loc[gallon_df[\"Purpose\"] == 'OTH', \"Purpose\"] = \"Other\"\n",
    "gallon_df.loc[gallon_df[\"Purpose\"] == 'RFG', \"Purpose\"] = \"Refrigerator\"\n",
    "gallon_df.loc[gallon_df[\"Purpose\"] == 'COL', \"Purpose\"] = \"Air Conditioner\""
   ]
  },
  {
   "cell_type": "code",
   "execution_count": 13,
   "metadata": {},
   "outputs": [
    {
     "data": {
      "text/plain": "                     DOEID   quantity\nType Purpose                         \nFO   Other          6042.0   0.536883\n     Space Heating  6042.0  37.233499\n     Water Heating  6042.0   5.293509\nKER  Other          6042.0   0.170239\n     Space Heating  6042.0   1.328726\n     Water Heating  6042.0   0.067698\nLP   Other          6042.0   6.036213\n     Space Heating  6042.0  28.244347\n     Water Heating  6042.0   6.803276",
      "text/html": "<div>\n<style scoped>\n    .dataframe tbody tr th:only-of-type {\n        vertical-align: middle;\n    }\n\n    .dataframe tbody tr th {\n        vertical-align: top;\n    }\n\n    .dataframe thead th {\n        text-align: right;\n    }\n</style>\n<table border=\"1\" class=\"dataframe\">\n  <thead>\n    <tr style=\"text-align: right;\">\n      <th></th>\n      <th></th>\n      <th>DOEID</th>\n      <th>quantity</th>\n    </tr>\n    <tr>\n      <th>Type</th>\n      <th>Purpose</th>\n      <th></th>\n      <th></th>\n    </tr>\n  </thead>\n  <tbody>\n    <tr>\n      <th rowspan=\"3\" valign=\"top\">FO</th>\n      <th>Other</th>\n      <td>6042.0</td>\n      <td>0.536883</td>\n    </tr>\n    <tr>\n      <th>Space Heating</th>\n      <td>6042.0</td>\n      <td>37.233499</td>\n    </tr>\n    <tr>\n      <th>Water Heating</th>\n      <td>6042.0</td>\n      <td>5.293509</td>\n    </tr>\n    <tr>\n      <th rowspan=\"3\" valign=\"top\">KER</th>\n      <th>Other</th>\n      <td>6042.0</td>\n      <td>0.170239</td>\n    </tr>\n    <tr>\n      <th>Space Heating</th>\n      <td>6042.0</td>\n      <td>1.328726</td>\n    </tr>\n    <tr>\n      <th>Water Heating</th>\n      <td>6042.0</td>\n      <td>0.067698</td>\n    </tr>\n    <tr>\n      <th rowspan=\"3\" valign=\"top\">LP</th>\n      <th>Other</th>\n      <td>6042.0</td>\n      <td>6.036213</td>\n    </tr>\n    <tr>\n      <th>Space Heating</th>\n      <td>6042.0</td>\n      <td>28.244347</td>\n    </tr>\n    <tr>\n      <th>Water Heating</th>\n      <td>6042.0</td>\n      <td>6.803276</td>\n    </tr>\n  </tbody>\n</table>\n</div>"
     },
     "execution_count": 13,
     "metadata": {},
     "output_type": "execute_result"
    }
   ],
   "source": [
    "gallon_df.groupby(['Type', 'Purpose'], as_index=True).mean('quantity')"
   ]
  },
  {
   "cell_type": "code",
   "execution_count": 14,
   "metadata": {},
   "outputs": [],
   "source": [
    "gallon_df_updated = gallon_df"
   ]
  }
 ],
 "metadata": {
  "kernelspec": {
   "display_name": "Python 3",
   "language": "python",
   "name": "python3"
  },
  "language_info": {
   "codemirror_mode": {
    "name": "ipython",
    "version": 3
   },
   "file_extension": ".py",
   "mimetype": "text/x-python",
   "name": "python",
   "nbconvert_exporter": "python",
   "pygments_lexer": "ipython3",
   "version": "3.10.5"
  },
  "orig_nbformat": 4,
  "vscode": {
   "interpreter": {
    "hash": "14b317c4e957ef28741ebbbb1786257a5f4d3e3dcbf27469a9f763009ef38058"
   }
  }
 },
 "nbformat": 4,
 "nbformat_minor": 2
}
