{
 "cells": [
  {
   "cell_type": "code",
   "execution_count": 86,
   "metadata": {},
   "outputs": [],
   "source": [
    "import pandas as pd\n",
    "import re\n",
    "import numpy as np\n",
    "\n",
    "data_csv = pd.read_csv('recs2009_public.csv')\n",
    "data = pd.DataFrame(data_csv)\n",
    "liste = ['DOEID', 'KWHSPH', 'KWHWTH', 'KWHOTH', 'KWHCOL', 'KWHRFG', 'BTULPSPH', 'BTULPWTH', 'BTULPOTH', 'BTUNGSPH', 'BTUNGWTH', 'BTUNGOTH', 'BTUFOSPH', 'BTUFOWTH', 'BTUFOOTH', 'BTUKERSPH', 'BTUKERWTH', 'BTUKEROTH', 'BTUELSPH', 'BTUELWTH', 'BTUELOTH', 'GALLONLPSPH', 'GALLONLPWTH', 'GALLONLPOTH', 'GALLONFOSPH', 'GALLONFOWTH', 'GALLONFOOTH', 'GALLONKERSPH', 'GALLONKERWTH', 'GALLONKEROTH', 'CUFEETNGSPH', 'CUFEETNGWTH', 'CUFEETNGOTH', 'BTUELCOL', 'BTUELRFG', 'BTUWOOD']\n",
    "\n",
    "kwh_liste = ['DOEID']\n",
    "btu_liste = ['DOEID']\n",
    "gallon_liste = ['DOEID']\n",
    "cufeet_liste = ['DOEID']\n"
   ]
  },
  {
   "cell_type": "code",
   "execution_count": 87,
   "metadata": {},
   "outputs": [],
   "source": [
    "\n",
    "for label in liste:\n",
    "    if \"KWH\" in  label:\n",
    "        kwh_liste.append(label)\n",
    "    if 'BTU' in label:\n",
    "        btu_liste.append(label)\n",
    "    if 'GALLON' in label:\n",
    "        gallon_liste.append(label)\n",
    "    if 'CUFEET' in label:\n",
    "        cufeet_liste.append(label)\n",
    "    else:\n",
    "        None\n",
    "\n",
    "kwh_df = data[kwh_liste]\n",
    "btu_df = data[btu_liste]\n",
    "gallon_df = data[gallon_liste]\n",
    "cufeet_df = data[cufeet_liste]\n",
    "\n",
    "kwh_df = kwh_df.melt(id_vars='DOEID', var_name='Purpose_of_Usage', value_name = 'KWH' )\n",
    "btu_df = btu_df.melt(id_vars='DOEID', var_name='Purpose_of_Usage', value_name = 'BTU' )\n",
    "gallon_df = gallon_df.melt(id_vars='DOEID', var_name='Purpose_of_Usage', value_name = 'GALLON' )\n",
    "cufeet_df = cufeet_df.melt(id_vars='DOEID', var_name='Purpose_of_Usage', value_name = 'CUBIC_FEET' )\n",
    "\n",
    "\n",
    "\n",
    "\n"
   ]
  },
  {
   "cell_type": "code",
   "execution_count": 88,
   "metadata": {},
   "outputs": [],
   "source": [
    "solar_user = data[['DOEID', 'USESOLAR']]"
   ]
  },
  {
   "cell_type": "code",
   "execution_count": 88,
   "outputs": [],
   "source": [],
   "metadata": {
    "collapsed": false
   }
  },
  {
   "cell_type": "code",
   "execution_count": 89,
   "outputs": [],
   "source": [
    "\n",
    "btu_df['Purpose_of_Usage'] = btu_df.Purpose_of_Usage.str[3:]\n",
    "btu_df['Purpose'] = btu_df.Purpose_of_Usage.str[-3:]\n",
    "btu_df['Type'] = btu_df.Purpose_of_Usage.str[:-3]\n",
    "btu_df= btu_df.sort_values(by='DOEID')"
   ],
   "metadata": {
    "collapsed": false
   }
  },
  {
   "cell_type": "code",
   "execution_count": 90,
   "outputs": [],
   "source": [
    "btu_df.drop('Purpose_of_Usage', inplace=True, axis=1)\n"
   ],
   "metadata": {
    "collapsed": false
   }
  },
  {
   "cell_type": "code",
   "execution_count": 91,
   "outputs": [],
   "source": [
    "btu_df = btu_df[['DOEID','Purpose', 'Type', 'BTU']]\n"
   ],
   "metadata": {
    "collapsed": false
   }
  },
  {
   "cell_type": "code",
   "execution_count": 92,
   "outputs": [],
   "source": [
    "btu_df.loc[btu_df[\"Purpose\"] == 'OOD', \"Purpose\"] = \"WOOD\"\n",
    "btu_df.loc[btu_df[\"Purpose\"] == 'SPH', \"Purpose\"] = \"Space Heating\"\n",
    "btu_df.loc[btu_df[\"Purpose\"] == 'WTH', \"Purpose\"] = \"Water Heating\"\n",
    "btu_df.loc[btu_df[\"Purpose\"] == 'OTH', \"Purpose\"] = \"Other\"\n",
    "btu_df.loc[btu_df[\"Purpose\"] == 'RFG', \"Purpose\"] = \"Refrigerator\"\n",
    "btu_df.loc[btu_df[\"Purpose\"] == 'COL', \"Purpose\"] = \"Air Conditioner\"\n",
    "\n",
    "\n",
    "\n"
   ],
   "metadata": {
    "collapsed": false
   }
  },
  {
   "cell_type": "code",
   "execution_count": 93,
   "outputs": [],
   "source": [
    "btu_df_updated = btu_df\n"
   ],
   "metadata": {
    "collapsed": false
   }
  },
  {
   "cell_type": "code",
   "execution_count": 94,
   "outputs": [
    {
     "data": {
      "text/plain": "        DOEID          Purpose Type        BTU\n0           1    Space Heating   LP      0.000\n193328      1     Refrigerator   EL   5170.899\n24166       1            Other   LP      0.000\n181245      1  Air Conditioner   EL  10470.729\n36249       1    Space Heating   NG      0.000\n...       ...              ...  ...        ...\n157078  12083    Space Heating   EL    327.116\n169161  12083    Water Heating   EL      0.000\n181244  12083            Other   EL   4262.461\n96663   12083    Water Heating   FO      0.000\n217493  12083             WOOD    W      0.000\n\n[217494 rows x 4 columns]",
      "text/html": "<div>\n<style scoped>\n    .dataframe tbody tr th:only-of-type {\n        vertical-align: middle;\n    }\n\n    .dataframe tbody tr th {\n        vertical-align: top;\n    }\n\n    .dataframe thead th {\n        text-align: right;\n    }\n</style>\n<table border=\"1\" class=\"dataframe\">\n  <thead>\n    <tr style=\"text-align: right;\">\n      <th></th>\n      <th>DOEID</th>\n      <th>Purpose</th>\n      <th>Type</th>\n      <th>BTU</th>\n    </tr>\n  </thead>\n  <tbody>\n    <tr>\n      <th>0</th>\n      <td>1</td>\n      <td>Space Heating</td>\n      <td>LP</td>\n      <td>0.000</td>\n    </tr>\n    <tr>\n      <th>193328</th>\n      <td>1</td>\n      <td>Refrigerator</td>\n      <td>EL</td>\n      <td>5170.899</td>\n    </tr>\n    <tr>\n      <th>24166</th>\n      <td>1</td>\n      <td>Other</td>\n      <td>LP</td>\n      <td>0.000</td>\n    </tr>\n    <tr>\n      <th>181245</th>\n      <td>1</td>\n      <td>Air Conditioner</td>\n      <td>EL</td>\n      <td>10470.729</td>\n    </tr>\n    <tr>\n      <th>36249</th>\n      <td>1</td>\n      <td>Space Heating</td>\n      <td>NG</td>\n      <td>0.000</td>\n    </tr>\n    <tr>\n      <th>...</th>\n      <td>...</td>\n      <td>...</td>\n      <td>...</td>\n      <td>...</td>\n    </tr>\n    <tr>\n      <th>157078</th>\n      <td>12083</td>\n      <td>Space Heating</td>\n      <td>EL</td>\n      <td>327.116</td>\n    </tr>\n    <tr>\n      <th>169161</th>\n      <td>12083</td>\n      <td>Water Heating</td>\n      <td>EL</td>\n      <td>0.000</td>\n    </tr>\n    <tr>\n      <th>181244</th>\n      <td>12083</td>\n      <td>Other</td>\n      <td>EL</td>\n      <td>4262.461</td>\n    </tr>\n    <tr>\n      <th>96663</th>\n      <td>12083</td>\n      <td>Water Heating</td>\n      <td>FO</td>\n      <td>0.000</td>\n    </tr>\n    <tr>\n      <th>217493</th>\n      <td>12083</td>\n      <td>WOOD</td>\n      <td>W</td>\n      <td>0.000</td>\n    </tr>\n  </tbody>\n</table>\n<p>217494 rows × 4 columns</p>\n</div>"
     },
     "execution_count": 94,
     "metadata": {},
     "output_type": "execute_result"
    }
   ],
   "source": [
    "btu_df_updated\n"
   ],
   "metadata": {
    "collapsed": false
   }
  },
  {
   "cell_type": "code",
   "execution_count": 95,
   "outputs": [],
   "source": [
    "cufeet_df['Purpose_of_Usage'] = cufeet_df.Purpose_of_Usage.str[6:]\n",
    "cufeet_df['Purpose'] = cufeet_df.Purpose_of_Usage.str[-3:]"
   ],
   "metadata": {
    "collapsed": false
   }
  },
  {
   "cell_type": "code",
   "execution_count": 96,
   "outputs": [
    {
     "data": {
      "text/plain": "Type\nNG    36249\ndtype: int64"
     },
     "execution_count": 96,
     "metadata": {},
     "output_type": "execute_result"
    }
   ],
   "source": [
    "cufeet_df['Type'] = cufeet_df.Purpose_of_Usage.str[0:-3]\n",
    "cufeet_df = cufeet_df[['DOEID', 'Type', 'Purpose', 'CUBIC_FEET']]\n",
    "cufeet_df.sort_values(by='DOEID')\n",
    "cufeet_df.value_counts('Type')"
   ],
   "metadata": {
    "collapsed": false
   }
  },
  {
   "cell_type": "code",
   "execution_count": 97,
   "outputs": [],
   "source": [
    "cufeet_df.loc[cufeet_df[\"Purpose\"] == 'OOD', \"Purpose\"] = \"WOOD\"\n",
    "cufeet_df.loc[cufeet_df[\"Purpose\"] == 'SPH', \"Purpose\"] = \"Space Heating\"\n",
    "cufeet_df.loc[cufeet_df[\"Purpose\"] == 'WTH', \"Purpose\"] = \"Water Heating\"\n",
    "cufeet_df.loc[cufeet_df[\"Purpose\"] == 'OTH', \"Purpose\"] = \"Other\"\n",
    "cufeet_df.loc[cufeet_df[\"Purpose\"] == 'RFG', \"Purpose\"] = \"Refrigerator\"\n",
    "cufeet_df.loc[cufeet_df[\"Purpose\"] == 'COL', \"Purpose\"] = \"Air Conditioner\""
   ],
   "metadata": {
    "collapsed": false
   }
  },
  {
   "cell_type": "code",
   "execution_count": 98,
   "outputs": [
    {
     "data": {
      "text/plain": "                     DOEID  CUBIC_FEET\nType Purpose                          \nNG   Other          6042.0   46.166379\n     Space Heating  6042.0  249.091509\n     Water Heating  6042.0  110.050895",
      "text/html": "<div>\n<style scoped>\n    .dataframe tbody tr th:only-of-type {\n        vertical-align: middle;\n    }\n\n    .dataframe tbody tr th {\n        vertical-align: top;\n    }\n\n    .dataframe thead th {\n        text-align: right;\n    }\n</style>\n<table border=\"1\" class=\"dataframe\">\n  <thead>\n    <tr style=\"text-align: right;\">\n      <th></th>\n      <th></th>\n      <th>DOEID</th>\n      <th>CUBIC_FEET</th>\n    </tr>\n    <tr>\n      <th>Type</th>\n      <th>Purpose</th>\n      <th></th>\n      <th></th>\n    </tr>\n  </thead>\n  <tbody>\n    <tr>\n      <th rowspan=\"3\" valign=\"top\">NG</th>\n      <th>Other</th>\n      <td>6042.0</td>\n      <td>46.166379</td>\n    </tr>\n    <tr>\n      <th>Space Heating</th>\n      <td>6042.0</td>\n      <td>249.091509</td>\n    </tr>\n    <tr>\n      <th>Water Heating</th>\n      <td>6042.0</td>\n      <td>110.050895</td>\n    </tr>\n  </tbody>\n</table>\n</div>"
     },
     "execution_count": 98,
     "metadata": {},
     "output_type": "execute_result"
    }
   ],
   "source": [
    "cufeet_df.groupby(['Type', 'Purpose'], as_index=True).mean('CUBIC_FEET')\n"
   ],
   "metadata": {
    "collapsed": false
   }
  },
  {
   "cell_type": "code",
   "execution_count": 99,
   "outputs": [],
   "source": [
    "cufeet_df_updated = cufeet_df"
   ],
   "metadata": {
    "collapsed": false
   }
  },
  {
   "cell_type": "code",
   "execution_count": 100,
   "outputs": [],
   "source": [
    "gallon_df['Purpose_of_Usage'] = gallon_df.Purpose_of_Usage.str[6:]\n",
    "gallon_df['Type'] = gallon_df.Purpose_of_Usage.str[:-3]\n",
    "gallon_df['Purpose'] = gallon_df.Purpose_of_Usage.str[-3:]\n",
    "\n",
    "gallon_df= gallon_df.sort_values(by='DOEID')\n"
   ],
   "metadata": {
    "collapsed": false
   }
  },
  {
   "cell_type": "code",
   "execution_count": 101,
   "outputs": [],
   "source": [
    "gallon_df = gallon_df[['DOEID', 'Purpose', 'Type', 'GALLON']]\n"
   ],
   "metadata": {
    "collapsed": false
   }
  },
  {
   "cell_type": "code",
   "execution_count": 102,
   "outputs": [],
   "source": [
    "gallon_df.loc[gallon_df[\"Purpose\"] == 'OOD', \"Purpose\"] = \"WOOD\"\n",
    "gallon_df.loc[gallon_df[\"Purpose\"] == 'SPH', \"Purpose\"] = \"Space Heating\"\n",
    "gallon_df.loc[gallon_df[\"Purpose\"] == 'WTH', \"Purpose\"] = \"Water Heating\"\n",
    "gallon_df.loc[gallon_df[\"Purpose\"] == 'OTH', \"Purpose\"] = \"Other\"\n",
    "gallon_df.loc[gallon_df[\"Purpose\"] == 'RFG', \"Purpose\"] = \"Refrigerator\"\n",
    "gallon_df.loc[gallon_df[\"Purpose\"] == 'COL', \"Purpose\"] = \"Air Conditioner\""
   ],
   "metadata": {
    "collapsed": false
   }
  },
  {
   "cell_type": "code",
   "execution_count": 103,
   "outputs": [],
   "source": [
    "gallon_df_updated = gallon_df"
   ],
   "metadata": {
    "collapsed": false
   }
  },
  {
   "cell_type": "code",
   "execution_count": 104,
   "outputs": [
    {
     "data": {
      "text/plain": "       DOEID Purpose Type       KWH\n0          1     SPH   EL  3186.707\n1          2     SPH   EL     0.000\n2          3     SPH   EL     0.000\n3          4     SPH   EL     0.000\n4          5     SPH   EL     0.000\n...      ...     ...  ...       ...\n60410  12079     RFG   EL   566.544\n60411  12080     RFG   EL   580.105\n60412  12081     RFG   EL  2172.621\n60413  12082     RFG   EL  1851.648\n60414  12083     RFG   EL   418.766\n\n[60415 rows x 4 columns]",
      "text/html": "<div>\n<style scoped>\n    .dataframe tbody tr th:only-of-type {\n        vertical-align: middle;\n    }\n\n    .dataframe tbody tr th {\n        vertical-align: top;\n    }\n\n    .dataframe thead th {\n        text-align: right;\n    }\n</style>\n<table border=\"1\" class=\"dataframe\">\n  <thead>\n    <tr style=\"text-align: right;\">\n      <th></th>\n      <th>DOEID</th>\n      <th>Purpose</th>\n      <th>Type</th>\n      <th>KWH</th>\n    </tr>\n  </thead>\n  <tbody>\n    <tr>\n      <th>0</th>\n      <td>1</td>\n      <td>SPH</td>\n      <td>EL</td>\n      <td>3186.707</td>\n    </tr>\n    <tr>\n      <th>1</th>\n      <td>2</td>\n      <td>SPH</td>\n      <td>EL</td>\n      <td>0.000</td>\n    </tr>\n    <tr>\n      <th>2</th>\n      <td>3</td>\n      <td>SPH</td>\n      <td>EL</td>\n      <td>0.000</td>\n    </tr>\n    <tr>\n      <th>3</th>\n      <td>4</td>\n      <td>SPH</td>\n      <td>EL</td>\n      <td>0.000</td>\n    </tr>\n    <tr>\n      <th>4</th>\n      <td>5</td>\n      <td>SPH</td>\n      <td>EL</td>\n      <td>0.000</td>\n    </tr>\n    <tr>\n      <th>...</th>\n      <td>...</td>\n      <td>...</td>\n      <td>...</td>\n      <td>...</td>\n    </tr>\n    <tr>\n      <th>60410</th>\n      <td>12079</td>\n      <td>RFG</td>\n      <td>EL</td>\n      <td>566.544</td>\n    </tr>\n    <tr>\n      <th>60411</th>\n      <td>12080</td>\n      <td>RFG</td>\n      <td>EL</td>\n      <td>580.105</td>\n    </tr>\n    <tr>\n      <th>60412</th>\n      <td>12081</td>\n      <td>RFG</td>\n      <td>EL</td>\n      <td>2172.621</td>\n    </tr>\n    <tr>\n      <th>60413</th>\n      <td>12082</td>\n      <td>RFG</td>\n      <td>EL</td>\n      <td>1851.648</td>\n    </tr>\n    <tr>\n      <th>60414</th>\n      <td>12083</td>\n      <td>RFG</td>\n      <td>EL</td>\n      <td>418.766</td>\n    </tr>\n  </tbody>\n</table>\n<p>60415 rows × 4 columns</p>\n</div>"
     },
     "execution_count": 104,
     "metadata": {},
     "output_type": "execute_result"
    }
   ],
   "source": [
    "kwh_df['Purpose'] = kwh_df.Purpose_of_Usage.str[-3:]\n",
    "kwh_df['Type'] = 'EL'\n",
    "kwh_df = kwh_df[['DOEID', 'Purpose','Type', 'KWH']]\n",
    "kwh_df.sort_values(by='DOEID')\n",
    "kwh_df"
   ],
   "metadata": {
    "collapsed": false
   }
  },
  {
   "cell_type": "code",
   "execution_count": 105,
   "outputs": [],
   "source": [
    "kwh_df.loc[kwh_df[\"Purpose\"] == 'OOD', \"Purpose\"] = \"WOOD\"\n",
    "kwh_df.loc[kwh_df[\"Purpose\"] == 'SPH', \"Purpose\"] = \"Space Heating\"\n",
    "kwh_df.loc[kwh_df[\"Purpose\"] == 'WTH', \"Purpose\"] = \"Water Heating\"\n",
    "kwh_df.loc[kwh_df[\"Purpose\"] == 'OTH', \"Purpose\"] = \"Other\"\n",
    "kwh_df.loc[kwh_df[\"Purpose\"] == 'RFG', \"Purpose\"] = \"Refrigerator\"\n",
    "kwh_df.loc[kwh_df[\"Purpose\"] == 'COL', \"Purpose\"] = \"Air Conditioner\""
   ],
   "metadata": {
    "collapsed": false
   }
  },
  {
   "cell_type": "code",
   "execution_count": 106,
   "outputs": [],
   "source": [
    "kwh_df_updated = kwh_df"
   ],
   "metadata": {
    "collapsed": false
   }
  },
  {
   "cell_type": "code",
   "execution_count": 107,
   "outputs": [],
   "source": [
    "btu_kwh = pd.merge(btu_df_updated,kwh_df_updated, on=['DOEID','Purpose', 'Type'] , how='outer').rename(columns={'quantity_x': 'BTU', 'quantity_y':'KWH'})\n"
   ],
   "metadata": {
    "collapsed": false
   }
  },
  {
   "cell_type": "code",
   "execution_count": 108,
   "outputs": [],
   "source": [
    "gallon_cufeet = pd.merge(gallon_df_updated, cufeet_df_updated, on=['DOEID','Purpose', 'Type'] , how='outer').rename(columns={'quantity_x': 'GALLON', 'quantity_y':'CUBIC_FEET'})\n"
   ],
   "metadata": {
    "collapsed": false
   }
  },
  {
   "cell_type": "code",
   "execution_count": 109,
   "outputs": [],
   "source": [
    "\n",
    "total = pd.merge(btu_kwh,gallon_cufeet, on=['DOEID','Purpose', 'Type'] , how='outer')\n"
   ],
   "metadata": {
    "collapsed": false
   }
  },
  {
   "cell_type": "code",
   "execution_count": 110,
   "outputs": [],
   "source": [
    "total = total.fillna(0)\n",
    "total = total.drop(total[((total['BTU'] == 0) & (total['KWH'] == 0) & (total['GALLON'] == 0) & (total['CUBIC_FEET'] == 0))].index)"
   ],
   "metadata": {
    "collapsed": false
   }
  },
  {
   "cell_type": "code",
   "execution_count": 111,
   "outputs": [
    {
     "data": {
      "text/plain": "        DOEID          Purpose Type        BTU       KWH  GALLON  CUBIC_FEET\n1           1     Refrigerator   EL   5170.899  1515.504     0.0       0.000\n3           1  Air Conditioner   EL  10470.729  3068.795     0.0       0.000\n5           1            Other   EL  26362.973  7726.545     0.0       0.000\n8           1    Water Heating   EL  10128.354  2968.450     0.0       0.000\n9           1    Space Heating   EL  10873.045  3186.707     0.0       0.000\n...       ...              ...  ...        ...       ...     ...         ...\n217482  12083    Water Heating   NG   8016.558     0.000     0.0      78.210\n217483  12083            Other   NG   2628.840     0.000     0.0      25.647\n217484  12083     Refrigerator   EL   1428.717   418.766     0.0       0.000\n217489  12083    Space Heating   EL    327.116    95.880     0.0       0.000\n217491  12083            Other   EL   4262.461  1249.354     0.0       0.000\n\n[67103 rows x 7 columns]",
      "text/html": "<div>\n<style scoped>\n    .dataframe tbody tr th:only-of-type {\n        vertical-align: middle;\n    }\n\n    .dataframe tbody tr th {\n        vertical-align: top;\n    }\n\n    .dataframe thead th {\n        text-align: right;\n    }\n</style>\n<table border=\"1\" class=\"dataframe\">\n  <thead>\n    <tr style=\"text-align: right;\">\n      <th></th>\n      <th>DOEID</th>\n      <th>Purpose</th>\n      <th>Type</th>\n      <th>BTU</th>\n      <th>KWH</th>\n      <th>GALLON</th>\n      <th>CUBIC_FEET</th>\n    </tr>\n  </thead>\n  <tbody>\n    <tr>\n      <th>1</th>\n      <td>1</td>\n      <td>Refrigerator</td>\n      <td>EL</td>\n      <td>5170.899</td>\n      <td>1515.504</td>\n      <td>0.0</td>\n      <td>0.000</td>\n    </tr>\n    <tr>\n      <th>3</th>\n      <td>1</td>\n      <td>Air Conditioner</td>\n      <td>EL</td>\n      <td>10470.729</td>\n      <td>3068.795</td>\n      <td>0.0</td>\n      <td>0.000</td>\n    </tr>\n    <tr>\n      <th>5</th>\n      <td>1</td>\n      <td>Other</td>\n      <td>EL</td>\n      <td>26362.973</td>\n      <td>7726.545</td>\n      <td>0.0</td>\n      <td>0.000</td>\n    </tr>\n    <tr>\n      <th>8</th>\n      <td>1</td>\n      <td>Water Heating</td>\n      <td>EL</td>\n      <td>10128.354</td>\n      <td>2968.450</td>\n      <td>0.0</td>\n      <td>0.000</td>\n    </tr>\n    <tr>\n      <th>9</th>\n      <td>1</td>\n      <td>Space Heating</td>\n      <td>EL</td>\n      <td>10873.045</td>\n      <td>3186.707</td>\n      <td>0.0</td>\n      <td>0.000</td>\n    </tr>\n    <tr>\n      <th>...</th>\n      <td>...</td>\n      <td>...</td>\n      <td>...</td>\n      <td>...</td>\n      <td>...</td>\n      <td>...</td>\n      <td>...</td>\n    </tr>\n    <tr>\n      <th>217482</th>\n      <td>12083</td>\n      <td>Water Heating</td>\n      <td>NG</td>\n      <td>8016.558</td>\n      <td>0.000</td>\n      <td>0.0</td>\n      <td>78.210</td>\n    </tr>\n    <tr>\n      <th>217483</th>\n      <td>12083</td>\n      <td>Other</td>\n      <td>NG</td>\n      <td>2628.840</td>\n      <td>0.000</td>\n      <td>0.0</td>\n      <td>25.647</td>\n    </tr>\n    <tr>\n      <th>217484</th>\n      <td>12083</td>\n      <td>Refrigerator</td>\n      <td>EL</td>\n      <td>1428.717</td>\n      <td>418.766</td>\n      <td>0.0</td>\n      <td>0.000</td>\n    </tr>\n    <tr>\n      <th>217489</th>\n      <td>12083</td>\n      <td>Space Heating</td>\n      <td>EL</td>\n      <td>327.116</td>\n      <td>95.880</td>\n      <td>0.0</td>\n      <td>0.000</td>\n    </tr>\n    <tr>\n      <th>217491</th>\n      <td>12083</td>\n      <td>Other</td>\n      <td>EL</td>\n      <td>4262.461</td>\n      <td>1249.354</td>\n      <td>0.0</td>\n      <td>0.000</td>\n    </tr>\n  </tbody>\n</table>\n<p>67103 rows × 7 columns</p>\n</div>"
     },
     "execution_count": 111,
     "metadata": {},
     "output_type": "execute_result"
    }
   ],
   "source": [
    "total"
   ],
   "metadata": {
    "collapsed": false
   }
  },
  {
   "cell_type": "code",
   "execution_count": 112,
   "outputs": [],
   "source": [
    "total_and_solar = pd.merge(total, solar_user, on='DOEID', how='outer')"
   ],
   "metadata": {
    "collapsed": false
   }
  },
  {
   "cell_type": "code",
   "execution_count": 113,
   "outputs": [
    {
     "data": {
      "text/plain": "       DOEID          Purpose Type        BTU       KWH  GALLON  CUBIC_FEET  \\\n0          1     Refrigerator   EL   5170.899  1515.504     0.0       0.000   \n1          1  Air Conditioner   EL  10470.729  3068.795     0.0       0.000   \n2          1            Other   EL  26362.973  7726.545     0.0       0.000   \n3          1    Water Heating   EL  10128.354  2968.450     0.0       0.000   \n4          1    Space Heating   EL  10873.045  3186.707     0.0       0.000   \n...      ...              ...  ...        ...       ...     ...         ...   \n67098  12083    Water Heating   NG   8016.558     0.000     0.0      78.210   \n67099  12083            Other   NG   2628.840     0.000     0.0      25.647   \n67100  12083     Refrigerator   EL   1428.717   418.766     0.0       0.000   \n67101  12083    Space Heating   EL    327.116    95.880     0.0       0.000   \n67102  12083            Other   EL   4262.461  1249.354     0.0       0.000   \n\n       USESOLAR  \n0             0  \n1             0  \n2             0  \n3             0  \n4             0  \n...         ...  \n67098         0  \n67099         0  \n67100         0  \n67101         0  \n67102         0  \n\n[67103 rows x 8 columns]",
      "text/html": "<div>\n<style scoped>\n    .dataframe tbody tr th:only-of-type {\n        vertical-align: middle;\n    }\n\n    .dataframe tbody tr th {\n        vertical-align: top;\n    }\n\n    .dataframe thead th {\n        text-align: right;\n    }\n</style>\n<table border=\"1\" class=\"dataframe\">\n  <thead>\n    <tr style=\"text-align: right;\">\n      <th></th>\n      <th>DOEID</th>\n      <th>Purpose</th>\n      <th>Type</th>\n      <th>BTU</th>\n      <th>KWH</th>\n      <th>GALLON</th>\n      <th>CUBIC_FEET</th>\n      <th>USESOLAR</th>\n    </tr>\n  </thead>\n  <tbody>\n    <tr>\n      <th>0</th>\n      <td>1</td>\n      <td>Refrigerator</td>\n      <td>EL</td>\n      <td>5170.899</td>\n      <td>1515.504</td>\n      <td>0.0</td>\n      <td>0.000</td>\n      <td>0</td>\n    </tr>\n    <tr>\n      <th>1</th>\n      <td>1</td>\n      <td>Air Conditioner</td>\n      <td>EL</td>\n      <td>10470.729</td>\n      <td>3068.795</td>\n      <td>0.0</td>\n      <td>0.000</td>\n      <td>0</td>\n    </tr>\n    <tr>\n      <th>2</th>\n      <td>1</td>\n      <td>Other</td>\n      <td>EL</td>\n      <td>26362.973</td>\n      <td>7726.545</td>\n      <td>0.0</td>\n      <td>0.000</td>\n      <td>0</td>\n    </tr>\n    <tr>\n      <th>3</th>\n      <td>1</td>\n      <td>Water Heating</td>\n      <td>EL</td>\n      <td>10128.354</td>\n      <td>2968.450</td>\n      <td>0.0</td>\n      <td>0.000</td>\n      <td>0</td>\n    </tr>\n    <tr>\n      <th>4</th>\n      <td>1</td>\n      <td>Space Heating</td>\n      <td>EL</td>\n      <td>10873.045</td>\n      <td>3186.707</td>\n      <td>0.0</td>\n      <td>0.000</td>\n      <td>0</td>\n    </tr>\n    <tr>\n      <th>...</th>\n      <td>...</td>\n      <td>...</td>\n      <td>...</td>\n      <td>...</td>\n      <td>...</td>\n      <td>...</td>\n      <td>...</td>\n      <td>...</td>\n    </tr>\n    <tr>\n      <th>67098</th>\n      <td>12083</td>\n      <td>Water Heating</td>\n      <td>NG</td>\n      <td>8016.558</td>\n      <td>0.000</td>\n      <td>0.0</td>\n      <td>78.210</td>\n      <td>0</td>\n    </tr>\n    <tr>\n      <th>67099</th>\n      <td>12083</td>\n      <td>Other</td>\n      <td>NG</td>\n      <td>2628.840</td>\n      <td>0.000</td>\n      <td>0.0</td>\n      <td>25.647</td>\n      <td>0</td>\n    </tr>\n    <tr>\n      <th>67100</th>\n      <td>12083</td>\n      <td>Refrigerator</td>\n      <td>EL</td>\n      <td>1428.717</td>\n      <td>418.766</td>\n      <td>0.0</td>\n      <td>0.000</td>\n      <td>0</td>\n    </tr>\n    <tr>\n      <th>67101</th>\n      <td>12083</td>\n      <td>Space Heating</td>\n      <td>EL</td>\n      <td>327.116</td>\n      <td>95.880</td>\n      <td>0.0</td>\n      <td>0.000</td>\n      <td>0</td>\n    </tr>\n    <tr>\n      <th>67102</th>\n      <td>12083</td>\n      <td>Other</td>\n      <td>EL</td>\n      <td>4262.461</td>\n      <td>1249.354</td>\n      <td>0.0</td>\n      <td>0.000</td>\n      <td>0</td>\n    </tr>\n  </tbody>\n</table>\n<p>67103 rows × 8 columns</p>\n</div>"
     },
     "execution_count": 113,
     "metadata": {},
     "output_type": "execute_result"
    }
   ],
   "source": [
    "total_and_solar"
   ],
   "metadata": {
    "collapsed": false
   }
  }
 ],
 "metadata": {
  "kernelspec": {
   "display_name": "Python 3",
   "language": "python",
   "name": "python3"
  },
  "language_info": {
   "codemirror_mode": {
    "name": "ipython",
    "version": 3
   },
   "file_extension": ".py",
   "mimetype": "text/x-python",
   "name": "python",
   "nbconvert_exporter": "python",
   "pygments_lexer": "ipython3",
   "version": "3.10.5"
  },
  "orig_nbformat": 4,
  "vscode": {
   "interpreter": {
    "hash": "14b317c4e957ef28741ebbbb1786257a5f4d3e3dcbf27469a9f763009ef38058"
   }
  }
 },
 "nbformat": 4,
 "nbformat_minor": 2
}
