{
 "cells": [
  {
   "cell_type": "code",
   "execution_count": 57,
   "metadata": {},
   "outputs": [],
   "source": [
    "import pandas as pd\n",
    "import re\n",
    "import numpy as np\n",
    "\n",
    "data_csv = pd.read_csv('recs2009_public.csv')\n",
    "data = pd.DataFrame(data_csv)\n",
    "liste = ['DOEID', 'KWHSPH', 'KWHWTH', 'KWHOTH', 'KWHCOL', 'KWHRFG', 'BTULPSPH', 'BTULPWTH', 'BTULPOTH', 'BTUNGSPH', 'BTUNGWTH', 'BTUNGOTH', 'BTUFOSPH', 'BTUFOWTH', 'BTUFOOTH', 'BTUKERSPH', 'BTUKERWTH', 'BTUKEROTH', 'BTUELSPH', 'BTUELWTH', 'BTUELOTH', 'GALLONLPSPH', 'GALLONLPWTH', 'GALLONLPOTH', 'GALLONFOSPH', 'GALLONFOWTH', 'GALLONFOOTH', 'GALLONKERSPH', 'GALLONKERWTH', 'GALLONKEROTH', 'CUFEETNGSPH', 'CUFEETNGWTH', 'CUFEETNGOTH', 'BTUELCOL', 'BTUELRFG', 'BTUWOOD']\n",
    "\n",
    "kwh_liste = ['DOEID']\n",
    "btu_liste = ['DOEID']\n",
    "gallon_liste = ['DOEID']\n",
    "cufeet_liste = ['DOEID']\n"
   ]
  },
  {
   "cell_type": "code",
   "execution_count": 58,
   "metadata": {},
   "outputs": [],
   "source": [
    "\n",
    "for label in liste:\n",
    "    if \"KWH\" in  label:\n",
    "        kwh_liste.append(label)\n",
    "    if 'BTU' in label:\n",
    "        btu_liste.append(label)\n",
    "    if 'GALLON' in label:\n",
    "        gallon_liste.append(label)\n",
    "    if 'CUFEET' in label:\n",
    "        cufeet_liste.append(label)\n",
    "    else:\n",
    "        None\n",
    "\n",
    "kwh_df = data[kwh_liste]\n",
    "btu_df = data[btu_liste]\n",
    "gallon_df = data[gallon_liste]\n",
    "cufeet_df = data[cufeet_liste]\n",
    "\n",
    "kwh_df = kwh_df.melt(id_vars='DOEID', var_name='Purpose_of_Usage', value_name = 'KWH' )\n",
    "btu_df = btu_df.melt(id_vars='DOEID', var_name='Purpose_of_Usage', value_name = 'BTU' )\n",
    "gallon_df = gallon_df.melt(id_vars='DOEID', var_name='Purpose_of_Usage', value_name = 'GALLON' )\n",
    "cufeet_df = cufeet_df.melt(id_vars='DOEID', var_name='Purpose_of_Usage', value_name = 'CUBIC_FEET' )\n",
    "\n",
    "\n",
    "\n",
    "\n"
   ]
  },
  {
   "cell_type": "code",
   "execution_count": 59,
   "metadata": {},
   "outputs": [
    {
     "data": {
      "text/plain": "       DOEID Purpose_of_Usage       KWH\n0          1           KWHSPH  3186.707\n1          2           KWHSPH     0.000\n2          3           KWHSPH     0.000\n3          4           KWHSPH     0.000\n4          5           KWHSPH     0.000\n...      ...              ...       ...\n60410  12079           KWHRFG   566.544\n60411  12080           KWHRFG   580.105\n60412  12081           KWHRFG  2172.621\n60413  12082           KWHRFG  1851.648\n60414  12083           KWHRFG   418.766\n\n[60415 rows x 3 columns]",
      "text/html": "<div>\n<style scoped>\n    .dataframe tbody tr th:only-of-type {\n        vertical-align: middle;\n    }\n\n    .dataframe tbody tr th {\n        vertical-align: top;\n    }\n\n    .dataframe thead th {\n        text-align: right;\n    }\n</style>\n<table border=\"1\" class=\"dataframe\">\n  <thead>\n    <tr style=\"text-align: right;\">\n      <th></th>\n      <th>DOEID</th>\n      <th>Purpose_of_Usage</th>\n      <th>KWH</th>\n    </tr>\n  </thead>\n  <tbody>\n    <tr>\n      <th>0</th>\n      <td>1</td>\n      <td>KWHSPH</td>\n      <td>3186.707</td>\n    </tr>\n    <tr>\n      <th>1</th>\n      <td>2</td>\n      <td>KWHSPH</td>\n      <td>0.000</td>\n    </tr>\n    <tr>\n      <th>2</th>\n      <td>3</td>\n      <td>KWHSPH</td>\n      <td>0.000</td>\n    </tr>\n    <tr>\n      <th>3</th>\n      <td>4</td>\n      <td>KWHSPH</td>\n      <td>0.000</td>\n    </tr>\n    <tr>\n      <th>4</th>\n      <td>5</td>\n      <td>KWHSPH</td>\n      <td>0.000</td>\n    </tr>\n    <tr>\n      <th>...</th>\n      <td>...</td>\n      <td>...</td>\n      <td>...</td>\n    </tr>\n    <tr>\n      <th>60410</th>\n      <td>12079</td>\n      <td>KWHRFG</td>\n      <td>566.544</td>\n    </tr>\n    <tr>\n      <th>60411</th>\n      <td>12080</td>\n      <td>KWHRFG</td>\n      <td>580.105</td>\n    </tr>\n    <tr>\n      <th>60412</th>\n      <td>12081</td>\n      <td>KWHRFG</td>\n      <td>2172.621</td>\n    </tr>\n    <tr>\n      <th>60413</th>\n      <td>12082</td>\n      <td>KWHRFG</td>\n      <td>1851.648</td>\n    </tr>\n    <tr>\n      <th>60414</th>\n      <td>12083</td>\n      <td>KWHRFG</td>\n      <td>418.766</td>\n    </tr>\n  </tbody>\n</table>\n<p>60415 rows × 3 columns</p>\n</div>"
     },
     "execution_count": 59,
     "metadata": {},
     "output_type": "execute_result"
    }
   ],
   "source": [
    "kwh_df"
   ]
  },
  {
   "cell_type": "code",
   "execution_count": 60,
   "outputs": [
    {
     "data": {
      "text/plain": "\"btu_df['Purpose_of_Usage'] = btu_df.Purpose_of_Usage.str[3:]\\nbtu_df['Purpose'] = btu_df.Purpose_of_Usage.str[-3:]\\nbtu_df['Type'] = btu_df.Purpose_of_Usage.str[:-3]\\nbtu_df= btu_df.sort_values(by='DOEID')\""
     },
     "execution_count": 60,
     "metadata": {},
     "output_type": "execute_result"
    }
   ],
   "source": [
    "\n",
    "\"\"\"btu_df['Purpose_of_Usage'] = btu_df.Purpose_of_Usage.str[3:]\n",
    "btu_df['Purpose'] = btu_df.Purpose_of_Usage.str[-3:]\n",
    "btu_df['Type'] = btu_df.Purpose_of_Usage.str[:-3]\n",
    "btu_df= btu_df.sort_values(by='DOEID')\"\"\""
   ],
   "metadata": {
    "collapsed": false
   }
  },
  {
   "cell_type": "code",
   "execution_count": 61,
   "outputs": [
    {
     "data": {
      "text/plain": "'btu_df.drop(\\'Purpose_of_Usage\\', inplace=True, axis=1)\\nbtu_df = btu_df[[\\'DOEID\\',\\'Purpose\\', \\'Type\\', \\'quantity\\']]\\nbtu_df.loc[btu_df[\"Purpose\"] == \\'OOD\\', \"Purpose\"] = \"WOOD\"\\nbtu_df.loc[btu_df[\"Purpose\"] == \\'SPH\\', \"Purpose\"] = \"Space Heating\"\\nbtu_df.loc[btu_df[\"Purpose\"] == \\'WTH\\', \"Purpose\"] = \"Water Heating\"\\nbtu_df.loc[btu_df[\"Purpose\"] == \\'OTH\\', \"Purpose\"] = \"Other\"\\nbtu_df.loc[btu_df[\"Purpose\"] == \\'RFG\\', \"Purpose\"] = \"Refrigerator\"\\nbtu_df.loc[btu_df[\"Purpose\"] == \\'COL\\', \"Purpose\"] = \"Air Conditioner'"
     },
     "execution_count": 61,
     "metadata": {},
     "output_type": "execute_result"
    }
   ],
   "source": [
    "\"\"\"btu_df.drop('Purpose_of_Usage', inplace=True, axis=1)\n",
    "btu_df = btu_df[['DOEID','Purpose', 'Type', 'quantity']]\n",
    "btu_df.loc[btu_df[\"Purpose\"] == 'OOD', \"Purpose\"] = \"WOOD\"\n",
    "btu_df.loc[btu_df[\"Purpose\"] == 'SPH', \"Purpose\"] = \"Space Heating\"\n",
    "btu_df.loc[btu_df[\"Purpose\"] == 'WTH', \"Purpose\"] = \"Water Heating\"\n",
    "btu_df.loc[btu_df[\"Purpose\"] == 'OTH', \"Purpose\"] = \"Other\"\n",
    "btu_df.loc[btu_df[\"Purpose\"] == 'RFG', \"Purpose\"] = \"Refrigerator\"\n",
    "btu_df.loc[btu_df[\"Purpose\"] == 'COL', \"Purpose\"] = \"Air Conditioner\"\"\"\n"
   ],
   "metadata": {
    "collapsed": false
   }
  },
  {
   "cell_type": "code",
   "execution_count": 62,
   "outputs": [
    {
     "data": {
      "text/plain": "'btu_df'"
     },
     "execution_count": 62,
     "metadata": {},
     "output_type": "execute_result"
    }
   ],
   "source": [
    "\"\"\"btu_df\"\"\""
   ],
   "metadata": {
    "collapsed": false
   }
  },
  {
   "cell_type": "code",
   "execution_count": 62,
   "outputs": [],
   "source": [],
   "metadata": {
    "collapsed": false
   }
  }
 ],
 "metadata": {
  "kernelspec": {
   "display_name": "Python 3",
   "language": "python",
   "name": "python3"
  },
  "language_info": {
   "codemirror_mode": {
    "name": "ipython",
    "version": 3
   },
   "file_extension": ".py",
   "mimetype": "text/x-python",
   "name": "python",
   "nbconvert_exporter": "python",
   "pygments_lexer": "ipython3",
   "version": "3.10.5"
  },
  "orig_nbformat": 4,
  "vscode": {
   "interpreter": {
    "hash": "14b317c4e957ef28741ebbbb1786257a5f4d3e3dcbf27469a9f763009ef38058"
   }
  }
 },
 "nbformat": 4,
 "nbformat_minor": 2
}
